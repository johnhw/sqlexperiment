{
 "cells": [
  {
   "cell_type": "code",
   "execution_count": 2,
   "metadata": {
    "collapsed": false
   },
   "outputs": [
    {
     "name": "stderr",
     "output_type": "stream",
     "text": [
      "07-27 17:30 [WARNI]  No stream mouse registered; creating a new blank entry\n"
     ]
    }
   ],
   "source": [
    "import sqlexperiment as sqle\n",
    "from sqlexperiment import experimentlog\n",
    "from sqlexperiment.experimentlog import ExperimentLog\n",
    "from sqlexperiment import extract\n",
    "from sqlexperiment import pseudo\n",
    "import pandas as pd\n",
    "# log some JSON data\n",
    "e = ExperimentLog(\":memory:\", ntp_sync=False)\n",
    "# now register the user with the database\n",
    "user = pseudo.get_pseudo()\n",
    "e.create(\"USER\", name=user, data={\"age\":30, \"leftright\":\"right\"})\n",
    "e.cd(\"/Experiment/Condition1\")\n",
    "e.bind(\"USER\",user)\n",
    "e.log(\"mouse\", data={\"x\":0, \"y\":0})\n",
    "e.log(\"mouse\", data={\"x\":0, \"y\":1})\n",
    "e.log(\"mouse\", data={\"x\":0, \"y\":2})\n",
    "e.cd(\"/Experiment/Condition2\")\n",
    "e.bind(\"USER\",user)\n",
    "e.log(\"mouse\", data={\"x\":0, \"y\":0})\n",
    "e.log(\"mouse\", data={\"x\":0, \"y\":1})\n",
    "e.log(\"mouse\", data={\"x\":0})\n",
    "e.leave(valid=False)\n",
    "e.enter('Condition2')\n",
    "e.log(\"mouse\", data={\"x\":0, \"y\":0})\n",
    "e.log(\"mouse\", data={\"x\":0, \"y\":1})\n",
    "e.log(\"mouse\", data={\"x\":0}, valid=0)\n",
    "e.enter('SubconditionA')\n",
    "e.cd(\"/Experiment/Condition1\")\n",
    "e.bind(\"USER\",user)\n",
    "e.log(\"mouse\", data={\"x\":0, \"y\":0})\n",
    "e.log(\"mouse\", data={\"x\":0, \"y\":1})\n",
    "e.log(\"mouse\", data={\"x\":0, \"y\":2})\n",
    "e.cd(\"/Experiment/Condition2\")\n",
    "e.bind(\"USER\",user)\n",
    "e.log(\"mouse\", data={\"x\":0, \"y\":0})\n",
    "e.log(\"mouse\", data={\"x\":0, \"y\":1})\n",
    "e.log(\"mouse\", data={\"x\":0})\n",
    "e.leave()\n",
    "e.enter('Condition2')\n",
    "e.log(\"mouse\", data={\"x\":0, \"y\":0})\n",
    "e.log(\"mouse\", data={\"x\":0, \"y\":1})\n",
    "e.log(\"mouse\", data={\"x\":0}, valid=0)\n",
    "e.enter('SubconditionA')\n",
    "e.end()\n"
   ]
  },
  {
   "cell_type": "code",
   "execution_count": 3,
   "metadata": {
    "collapsed": false
   },
   "outputs": [
    {
     "name": "stdout",
     "output_type": "stream",
     "text": [
      "{u'PATH':   bound  data description                                   name  type\n",
      "0    []  None        None                           /Experiment/  None\n",
      "1    []  None        None                /Experiment/Condition1/  None\n",
      "2    []  None        None                /Experiment/Condition2/  None\n",
      "3    []  None        None  /Experiment/Condition2/SubconditionA/  None, u'USER':           bound                                  data description  \\\n",
      "0  [3, 4, 7, 8]  {u'age': 30, u'leftright': u'right'}               \n",
      "\n",
      "          name type  \n",
      "0  POSUD-OMARU       , u'STREAM':   bound  data description   name  type\n",
      "0    []  None              mouse  AUTO, u'DATASET':   bound                 data description  name  type\n",
      "0    []  {u'stage': u'init'}        None  None  None}\n"
     ]
    }
   ],
   "source": [
    "meta, bound_ix = extract.meta(e.cursor)\n",
    "print(extract.meta_dataframe(e.cursor))"
   ]
  },
  {
   "cell_type": "code",
   "execution_count": 4,
   "metadata": {
    "collapsed": false
   },
   "outputs": [
    {
     "name": "stdout",
     "output_type": "stream",
     "text": [
      "{u'mouse':     session_valid  session             t  x    y                     path  \\\n",
      "0             1.0        3  1.501173e+09  0  0.0  /Experiment/Condition1/   \n",
      "1             1.0        3  1.501173e+09  0  1.0  /Experiment/Condition1/   \n",
      "2             1.0        3  1.501173e+09  0  2.0  /Experiment/Condition1/   \n",
      "3             0.0        4  1.501173e+09  0  0.0  /Experiment/Condition2/   \n",
      "4             0.0        4  1.501173e+09  0  1.0  /Experiment/Condition2/   \n",
      "5             0.0        4  1.501173e+09  0  NaN  /Experiment/Condition2/   \n",
      "6             1.0        5  1.501173e+09  0  0.0  /Experiment/Condition2/   \n",
      "7             1.0        5  1.501173e+09  0  1.0  /Experiment/Condition2/   \n",
      "8             1.0        5  1.501173e+09  0  NaN  /Experiment/Condition2/   \n",
      "9             1.0        7  1.501173e+09  0  0.0  /Experiment/Condition1/   \n",
      "10            1.0        7  1.501173e+09  0  1.0  /Experiment/Condition1/   \n",
      "11            1.0        7  1.501173e+09  0  2.0  /Experiment/Condition1/   \n",
      "12            1.0        8  1.501173e+09  0  0.0  /Experiment/Condition2/   \n",
      "13            1.0        8  1.501173e+09  0  1.0  /Experiment/Condition2/   \n",
      "14            1.0        8  1.501173e+09  0  NaN  /Experiment/Condition2/   \n",
      "15            NaN        9  1.501173e+09  0  0.0  /Experiment/Condition2/   \n",
      "16            NaN        9  1.501173e+09  0  1.0  /Experiment/Condition2/   \n",
      "17            NaN        9  1.501173e+09  0  NaN  /Experiment/Condition2/   \n",
      "\n",
      "    valid  \n",
      "0       1  \n",
      "1       1  \n",
      "2       1  \n",
      "3       1  \n",
      "4       1  \n",
      "5       1  \n",
      "6       1  \n",
      "7       1  \n",
      "8       0  \n",
      "9       1  \n",
      "10      1  \n",
      "11      1  \n",
      "12      1  \n",
      "13      1  \n",
      "14      1  \n",
      "15      1  \n",
      "16      1  \n",
      "17      0  }\n"
     ]
    }
   ],
   "source": [
    "df = extract.dump_flat_dataframe(e.cursor)\n",
    "print(df)"
   ]
  },
  {
   "cell_type": "code",
   "execution_count": 5,
   "metadata": {
    "collapsed": true
   },
   "outputs": [],
   "source": [
    "df = extract.dump_dataframe(e.cursor)\n",
    "\n"
   ]
  },
  {
   "cell_type": "code",
   "execution_count": 6,
   "metadata": {
    "collapsed": true
   },
   "outputs": [],
   "source": [
    "import six"
   ]
  },
  {
   "cell_type": "code",
   "execution_count": 7,
   "metadata": {
    "collapsed": false
   },
   "outputs": [
    {
     "name": "stdout",
     "output_type": "stream",
     "text": [
      "/Experiment/                                      \tTotal logs:9\n",
      "/Experiment/Condition1/                           \tTotal logs:2\n",
      "/Experiment/Condition2/                           \tTotal logs:6\n",
      "/Experiment/Condition2/SubconditionA/             \tTotal logs:2\n"
     ]
    }
   ],
   "source": [
    "session_tree, path_tree = extract.map_children_sessions(e.cursor)\n",
    "print(\"\\n\".join([\"%-50s\\tTotal logs:%d\" % (k,len(v)) for k,v in six.iteritems(path_tree)]))"
   ]
  },
  {
   "cell_type": "code",
   "execution_count": 8,
   "metadata": {
    "collapsed": false
   },
   "outputs": [
    {
     "name": "stdout",
     "output_type": "stream",
     "text": [
      "    complete description      end_time  json     last_time  log_count  \\\n",
      "id                                                                      \n",
      "1        NaN        None           NaN  None           NaN          0   \n",
      "2        0.0                       NaN  None           NaN          0   \n",
      "3        1.0              1.501173e+09  None  1.501173e+09          3   \n",
      "4        1.0              1.501173e+09  None  1.501173e+09          3   \n",
      "5        1.0              1.501173e+09  None  1.501173e+09          3   \n",
      "6        1.0              1.501173e+09  None           NaN          0   \n",
      "7        1.0              1.501173e+09  None  1.501173e+09          3   \n",
      "8        1.0              1.501173e+09  None  1.501173e+09          3   \n",
      "9        0.0                       NaN  None  1.501173e+09          3   \n",
      "10       0.0                       NaN  None           NaN          0   \n",
      "\n",
      "             name  parent                                   path  \\\n",
      "id                                                                 \n",
      "1          [ROOT]     NaN                                      /   \n",
      "2      Experiment     1.0                           /Experiment/   \n",
      "3      Condition1     2.0                /Experiment/Condition1/   \n",
      "4      Condition2     2.0                /Experiment/Condition2/   \n",
      "5      Condition2     2.0                /Experiment/Condition2/   \n",
      "6   SubconditionA     5.0  /Experiment/Condition2/SubconditionA/   \n",
      "7      Condition1     2.0                /Experiment/Condition1/   \n",
      "8      Condition2     2.0                /Experiment/Condition2/   \n",
      "9      Condition2     2.0                /Experiment/Condition2/   \n",
      "10  SubconditionA     9.0  /Experiment/Condition2/SubconditionA/   \n",
      "\n",
      "     random_seed    start_time  subcount  test_run  valid  \n",
      "id                                                         \n",
      "1            NaN  1.501173e+09         0       NaN    NaN  \n",
      "2   1.501173e+12  1.501173e+09         0       0.0    NaN  \n",
      "3   3.002346e+12  1.501173e+09         0       0.0    1.0  \n",
      "4   3.002346e+12  1.501173e+09         0       0.0    0.0  \n",
      "5   3.002346e+12  1.501173e+09         0       0.0    1.0  \n",
      "6   7.505865e+12  1.501173e+09         0       0.0    1.0  \n",
      "7   3.002346e+12  1.501173e+09         0       0.0    1.0  \n",
      "8   3.002346e+12  1.501173e+09         0       0.0    1.0  \n",
      "9   3.002346e+12  1.501173e+09         0       0.0    NaN  \n",
      "10  1.351056e+13  1.501173e+09         0       0.0    NaN  \n"
     ]
    }
   ],
   "source": [
    "print(extract.dump_sessions_dataframe(e.cursor))"
   ]
  },
  {
   "cell_type": "code",
   "execution_count": null,
   "metadata": {
    "collapsed": true
   },
   "outputs": [],
   "source": []
  },
  {
   "cell_type": "code",
   "execution_count": null,
   "metadata": {
    "collapsed": true
   },
   "outputs": [],
   "source": []
  }
 ],
 "metadata": {
  "anaconda-cloud": {},
  "kernelspec": {
   "display_name": "Python [conda env:rewards_py2]",
   "language": "python",
   "name": "conda-env-rewards_py2-py"
  },
  "language_info": {
   "codemirror_mode": {
    "name": "ipython",
    "version": 2
   },
   "file_extension": ".py",
   "mimetype": "text/x-python",
   "name": "python",
   "nbconvert_exporter": "python",
   "pygments_lexer": "ipython2",
   "version": "2.7.13"
  }
 },
 "nbformat": 4,
 "nbformat_minor": 1
}
