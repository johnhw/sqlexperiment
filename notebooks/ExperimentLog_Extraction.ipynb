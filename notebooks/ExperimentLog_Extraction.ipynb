{
 "cells": [
  {
   "cell_type": "code",
   "execution_count": 9,
   "metadata": {
    "collapsed": false
   },
   "outputs": [
    {
     "name": "stderr",
     "output_type": "stream",
     "text": [
      "DEBUG:root:Opening database ':memory:'. Autocommit: 'None'\n",
      "DEBUG:root:Creating tables.\n",
      "DEBUG:root:Resuming from session 1 '/'\n",
      "DEBUG:root:Run ID: [00000001]\n",
      "DEBUG:root:Run config logged as '{}'\n",
      "DEBUG:root:<Commit>\n",
      "DEBUG:root:Registering 'VOZEN-ATUME' of type 'USER', with data [{\"age\": 30, \"leftright\": \"right\"}]\n",
      "DEBUG:root:CD'ing to /Experiment/Condition1/\n",
      "DEBUG:root:Parent session /\n",
      "DEBUG:root:Entering session '/Experiment/'\n",
      "DEBUG:root:New session ID [00000002]\n",
      "DEBUG:root:<Commit>\n",
      "DEBUG:root:Parent session /Experiment/\n",
      "DEBUG:root:Entering session '/Experiment/Condition1/'\n",
      "DEBUG:root:New session ID [00000003]\n",
      "DEBUG:root:<Commit>\n",
      "DEBUG:root:CD'd to /Experiment/Condition1/\n",
      "DEBUG:root:Binding meta table USER:VOZEN-ATUME to /Experiment/Condition1/\n",
      "WARNING:root:No stream mouse registered; creating a new blank entry\n",
      "02-16 17:23 [WARNI]  No stream mouse registered; creating a new blank entry\n",
      "DEBUG:root:Registering 'mouse' of type 'STREAM', with data [null]\n",
      "DEBUG:root:CD'ing to /Experiment/Condition2/\n",
      "DEBUG:root:Leaving session '/Experiment/Condition1/'\n",
      "DEBUG:root:<Commit>\n",
      "DEBUG:root:Parent session /Experiment/\n",
      "DEBUG:root:Entering session '/Experiment/Condition2/'\n",
      "DEBUG:root:New session ID [00000004]\n",
      "DEBUG:root:<Commit>\n",
      "DEBUG:root:CD'd to /Experiment/Condition2/\n",
      "DEBUG:root:Binding meta table USER:VOZEN-ATUME to /Experiment/Condition2/\n",
      "DEBUG:root:Leaving session '/Experiment/Condition2/'\n",
      "DEBUG:root:<Commit>\n",
      "DEBUG:root:Parent session /Experiment/\n",
      "DEBUG:root:Entering session '/Experiment/Condition2/'\n",
      "DEBUG:root:New session ID [00000005]\n",
      "DEBUG:root:<Commit>\n",
      "DEBUG:root:Parent session /Experiment/Condition2/\n",
      "DEBUG:root:Entering session '/Experiment/Condition2/SubconditionA/'\n",
      "DEBUG:root:New session ID [00000006]\n",
      "DEBUG:root:<Commit>\n",
      "DEBUG:root:CD'ing to /Experiment/Condition1/\n",
      "DEBUG:root:Leaving session '/Experiment/Condition2/SubconditionA/'\n",
      "DEBUG:root:<Commit>\n",
      "DEBUG:root:Leaving session '/Experiment/Condition2/'\n",
      "DEBUG:root:<Commit>\n",
      "DEBUG:root:Parent session /Experiment/\n",
      "DEBUG:root:Entering session '/Experiment/Condition1/'\n",
      "DEBUG:root:New session ID [00000007]\n",
      "DEBUG:root:<Commit>\n",
      "DEBUG:root:CD'd to /Experiment/Condition1/\n",
      "DEBUG:root:Binding meta table USER:VOZEN-ATUME to /Experiment/Condition1/\n",
      "DEBUG:root:CD'ing to /Experiment/Condition2/\n",
      "DEBUG:root:Leaving session '/Experiment/Condition1/'\n",
      "DEBUG:root:<Commit>\n",
      "DEBUG:root:Parent session /Experiment/\n",
      "DEBUG:root:Entering session '/Experiment/Condition2/'\n",
      "DEBUG:root:New session ID [00000008]\n",
      "DEBUG:root:<Commit>\n",
      "DEBUG:root:CD'd to /Experiment/Condition2/\n",
      "DEBUG:root:Binding meta table USER:VOZEN-ATUME to /Experiment/Condition2/\n",
      "DEBUG:root:Leaving session '/Experiment/Condition2/'\n",
      "DEBUG:root:<Commit>\n",
      "DEBUG:root:Parent session /Experiment/\n",
      "DEBUG:root:Entering session '/Experiment/Condition2/'\n",
      "DEBUG:root:New session ID [00000009]\n",
      "DEBUG:root:<Commit>\n",
      "DEBUG:root:Parent session /Experiment/Condition2/\n",
      "DEBUG:root:Entering session '/Experiment/Condition2/SubconditionA/'\n",
      "DEBUG:root:New session ID [00000010]\n",
      "DEBUG:root:<Commit>\n",
      "DEBUG:root:Marking end of run [00000001].\n"
     ]
    }
   ],
   "source": [
    "from experimentlog import ExperimentLog\n",
    "import extract\n",
    "import pseudo\n",
    "import pandas as pd\n",
    "# log some JSON data\n",
    "e = ExperimentLog(\":memory:\", ntp_sync=False)\n",
    "# now register the user with the database\n",
    "user = pseudo.get_pseudo()\n",
    "e.create(\"USER\", name=user, data={\"age\":30, \"leftright\":\"right\"})\n",
    "e.cd(\"/Experiment/Condition1\")\n",
    "e.bind(\"USER\",user)\n",
    "e.log(\"mouse\", data={\"x\":0, \"y\":0})\n",
    "e.log(\"mouse\", data={\"x\":0, \"y\":1})\n",
    "e.log(\"mouse\", data={\"x\":0, \"y\":2})\n",
    "e.cd(\"/Experiment/Condition2\")\n",
    "e.bind(\"USER\",user)\n",
    "e.log(\"mouse\", data={\"x\":0, \"y\":0})\n",
    "e.log(\"mouse\", data={\"x\":0, \"y\":1})\n",
    "e.log(\"mouse\", data={\"x\":0})\n",
    "e.leave(valid=False)\n",
    "e.enter('Condition2')\n",
    "e.log(\"mouse\", data={\"x\":0, \"y\":0})\n",
    "e.log(\"mouse\", data={\"x\":0, \"y\":1})\n",
    "e.log(\"mouse\", data={\"x\":0}, valid=0)\n",
    "e.enter('SubconditionA')\n",
    "e.cd(\"/Experiment/Condition1\")\n",
    "e.bind(\"USER\",user)\n",
    "e.log(\"mouse\", data={\"x\":0, \"y\":0})\n",
    "e.log(\"mouse\", data={\"x\":0, \"y\":1})\n",
    "e.log(\"mouse\", data={\"x\":0, \"y\":2})\n",
    "e.cd(\"/Experiment/Condition2\")\n",
    "e.bind(\"USER\",user)\n",
    "e.log(\"mouse\", data={\"x\":0, \"y\":0})\n",
    "e.log(\"mouse\", data={\"x\":0, \"y\":1})\n",
    "e.log(\"mouse\", data={\"x\":0})\n",
    "e.leave()\n",
    "e.enter('Condition2')\n",
    "e.log(\"mouse\", data={\"x\":0, \"y\":0})\n",
    "e.log(\"mouse\", data={\"x\":0, \"y\":1})\n",
    "e.log(\"mouse\", data={\"x\":0}, valid=0)\n",
    "e.enter('SubconditionA')\n",
    "e.end()\n"
   ]
  },
  {
   "cell_type": "code",
   "execution_count": 10,
   "metadata": {
    "collapsed": false
   },
   "outputs": [
    {
     "name": "stdout",
     "output_type": "stream",
     "text": [
      "{u'PATH':   bound  data description                                   name  type\n",
      "0    []  None        None                           /Experiment/  None\n",
      "1    []  None        None                /Experiment/Condition1/  None\n",
      "2    []  None        None                /Experiment/Condition2/  None\n",
      "3    []  None        None  /Experiment/Condition2/SubconditionA/  None, u'USER':           bound                                  data description  \\\n",
      "0  [3, 4, 7, 8]  {u'age': 30, u'leftright': u'right'}               \n",
      "\n",
      "          name type  \n",
      "0  VOZEN-ATUME       , u'STREAM':   bound  data description   name  type\n",
      "0    []  None              mouse  AUTO, u'DATASET':   bound                 data description  name  type\n",
      "0    []  {u'stage': u'init'}        None  None  None}\n"
     ]
    }
   ],
   "source": [
    "meta, bound_ix = extract.meta(e.cursor)\n",
    "print extract.meta_dataframe(e.cursor)"
   ]
  },
  {
   "cell_type": "code",
   "execution_count": 13,
   "metadata": {
    "collapsed": false
   },
   "outputs": [
    {
     "name": "stdout",
     "output_type": "stream",
     "text": [
      "{u'mouse':     session_valid  session             t  x   y                     path  \\\n",
      "0               1        3  1.455643e+09  0   0  /Experiment/Condition1/   \n",
      "1               1        3  1.455643e+09  0   1  /Experiment/Condition1/   \n",
      "2               1        3  1.455643e+09  0   2  /Experiment/Condition1/   \n",
      "3               0        4  1.455643e+09  0   0  /Experiment/Condition2/   \n",
      "4               0        4  1.455643e+09  0   1  /Experiment/Condition2/   \n",
      "5               0        4  1.455643e+09  0 NaN  /Experiment/Condition2/   \n",
      "6               1        5  1.455643e+09  0   0  /Experiment/Condition2/   \n",
      "7               1        5  1.455643e+09  0   1  /Experiment/Condition2/   \n",
      "8               1        5  1.455643e+09  0 NaN  /Experiment/Condition2/   \n",
      "9               1        7  1.455643e+09  0   0  /Experiment/Condition1/   \n",
      "10              1        7  1.455643e+09  0   1  /Experiment/Condition1/   \n",
      "11              1        7  1.455643e+09  0   2  /Experiment/Condition1/   \n",
      "12              1        8  1.455643e+09  0   0  /Experiment/Condition2/   \n",
      "13              1        8  1.455643e+09  0   1  /Experiment/Condition2/   \n",
      "14              1        8  1.455643e+09  0 NaN  /Experiment/Condition2/   \n",
      "15            NaN        9  1.455643e+09  0   0  /Experiment/Condition2/   \n",
      "16            NaN        9  1.455643e+09  0   1  /Experiment/Condition2/   \n",
      "17            NaN        9  1.455643e+09  0 NaN  /Experiment/Condition2/   \n",
      "\n",
      "    valid  \n",
      "0       1  \n",
      "1       1  \n",
      "2       1  \n",
      "3       1  \n",
      "4       1  \n",
      "5       1  \n",
      "6       1  \n",
      "7       1  \n",
      "8       0  \n",
      "9       1  \n",
      "10      1  \n",
      "11      1  \n",
      "12      1  \n",
      "13      1  \n",
      "14      1  \n",
      "15      1  \n",
      "16      1  \n",
      "17      0  }\n"
     ]
    }
   ],
   "source": [
    "df = extract.dump_flat_dataframe(e.cursor)\n",
    "print df"
   ]
  },
  {
   "cell_type": "code",
   "execution_count": 14,
   "metadata": {
    "collapsed": false
   },
   "outputs": [],
   "source": [
    "df = extract.dump_dataframe(e.cursor)\n",
    "\n"
   ]
  },
  {
   "cell_type": "code",
   "execution_count": 15,
   "metadata": {
    "collapsed": false
   },
   "outputs": [
    {
     "name": "stdout",
     "output_type": "stream",
     "text": [
      "/Experiment/                                      \tTotal logs:9\n",
      "/Experiment/Condition1/                           \tTotal logs:2\n",
      "/Experiment/Condition2/                           \tTotal logs:6\n",
      "/Experiment/Condition2/SubconditionA/             \tTotal logs:2\n"
     ]
    }
   ],
   "source": [
    "session_tree, path_tree = extract.map_children_sessions(e.cursor)\n",
    "print \"\\n\".join([\"%-50s\\tTotal logs:%d\" % (k,len(v)) for k,v in path_tree.iteritems()])"
   ]
  },
  {
   "cell_type": "code",
   "execution_count": 17,
   "metadata": {
    "collapsed": false
   },
   "outputs": [
    {
     "name": "stdout",
     "output_type": "stream",
     "text": [
      "    complete description      end_time  json     last_time  log_count  \\\n",
      "id                                                                      \n",
      "1        NaN        None           NaN  None           NaN          0   \n",
      "2          0                       NaN  None           NaN          0   \n",
      "3          1              1.455643e+09  None  1.455643e+09          3   \n",
      "4          1              1.455643e+09  None  1.455643e+09          3   \n",
      "5          1              1.455643e+09  None  1.455643e+09          3   \n",
      "6          1              1.455643e+09  None           NaN          0   \n",
      "7          1              1.455643e+09  None  1.455643e+09          3   \n",
      "8          1              1.455643e+09  None  1.455643e+09          3   \n",
      "9          0                       NaN  None  1.455643e+09          3   \n",
      "10         0                       NaN  None           NaN          0   \n",
      "\n",
      "             name  parent                                   path random_seed  \\\n",
      "id                                                                             \n",
      "1          [ROOT]     NaN                                      /        None   \n",
      "2      Experiment       1                           /Experiment/        None   \n",
      "3      Condition1       2                /Experiment/Condition1/        None   \n",
      "4      Condition2       2                /Experiment/Condition2/        None   \n",
      "5      Condition2       2                /Experiment/Condition2/        None   \n",
      "6   SubconditionA       5  /Experiment/Condition2/SubconditionA/        None   \n",
      "7      Condition1       2                /Experiment/Condition1/        None   \n",
      "8      Condition2       2                /Experiment/Condition2/        None   \n",
      "9      Condition2       2                /Experiment/Condition2/        None   \n",
      "10  SubconditionA       9  /Experiment/Condition2/SubconditionA/        None   \n",
      "\n",
      "      start_time  subcount  test_run  valid  \n",
      "id                                           \n",
      "1   1.455643e+09         0       NaN    NaN  \n",
      "2   1.455643e+09         0         0    NaN  \n",
      "3   1.455643e+09         0         0      1  \n",
      "4   1.455643e+09         0         0      0  \n",
      "5   1.455643e+09         0         0      1  \n",
      "6   1.455643e+09         0         0      1  \n",
      "7   1.455643e+09         0         0      1  \n",
      "8   1.455643e+09         0         0      1  \n",
      "9   1.455643e+09         0         0    NaN  \n",
      "10  1.455643e+09         0         0    NaN  \n"
     ]
    }
   ],
   "source": [
    "\n",
    "print extract.dump_sessions_dataframe(e.cursor)"
   ]
  },
  {
   "cell_type": "code",
   "execution_count": null,
   "metadata": {
    "collapsed": true
   },
   "outputs": [],
   "source": []
  },
  {
   "cell_type": "code",
   "execution_count": null,
   "metadata": {
    "collapsed": true
   },
   "outputs": [],
   "source": []
  }
 ],
 "metadata": {
  "kernelspec": {
   "display_name": "Python 2",
   "language": "python",
   "name": "python2"
  },
  "language_info": {
   "codemirror_mode": {
    "name": "ipython",
    "version": 2
   },
   "file_extension": ".py",
   "mimetype": "text/x-python",
   "name": "python",
   "nbconvert_exporter": "python",
   "pygments_lexer": "ipython2",
   "version": "2.7.11"
  }
 },
 "nbformat": 4,
 "nbformat_minor": 0
}
