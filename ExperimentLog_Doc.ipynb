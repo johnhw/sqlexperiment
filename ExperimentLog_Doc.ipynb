{
 "cells": [
  {
   "cell_type": "markdown",
   "metadata": {},
   "source": [
    "## Experiment logger\n",
    "The logger stores experimental data in a single SQLite database. It is intended to be fast and lightweight, but record all necessary meta data and timestamps for experimental trials.\n",
    "\n",
    "As a consequence, [SQLiteBrowser](http://sqlitebrowser.org/) can be used to browse the log results without having to do any coding.\n",
    "\n",
    "Most of the entries are stored as JSON strings in the database tables; any object that can be serialised by Python's `json` module can be added directly.\n",
    "\n",
    "### Connecting to the database"
   ]
  },
  {
   "cell_type": "code",
   "execution_count": 1,
   "metadata": {
    "collapsed": false
   },
   "outputs": [],
   "source": [
    "from experimentlog import ExperimentLog, np_to_str, str_to_np\n",
    "import numpy as np\n",
    "## open a connection to a database; will be created if it does not exist.\n",
    "# here we use a memory database so the results are not stored to disk\n",
    "e = ExperimentLog(\":memory:\")"
   ]
  },
  {
   "cell_type": "markdown",
   "metadata": {},
   "source": [
    "### Setting up the database\n",
    "When a log is set up for the first time, the database needs to be configured for the experimental sessions. \n",
    "\n",
    "Each sensor/information **stream** needs to be registered with the database. This could be individual sensors like a mouse (x,y) time series, or questionnaire results.\n",
    "Every entry in the log stream maintains the time, tag and a \"valid\" flag for each entry, plus the JSON representing the data logged."
   ]
  },
  {
   "cell_type": "code",
   "execution_count": 2,
   "metadata": {
    "collapsed": false
   },
   "outputs": [],
   "source": [
    "# check if we've already set everything up\n",
    "if e.get_stage()==\"init\":\n",
    "    \n",
    "    # the mouse time series, \n",
    "    e.register_stream(name=\"mouse\", description=\"A time series of x,y cursor positions\",\n",
    "                   # the data is optional, and can contain anything you want \n",
    "                  data={\n",
    "                    \"sample_rate\": 60,\n",
    "                    \"dpi\": 3000,\n",
    "                    \"mouse_device\":\"Logitech MX600\"})\n",
    "    \n",
    "    # a matrix of some kind\n",
    "    e.register_stream(name=\"important_matrix\", description=\"A matrix\")\n",
    "    \n",
    "    # and a post-condition questionnaire\n",
    "    e.register_stream(name=\"satisfaction\", \n",
    "                   description=\"A simple satisfaction score\",\n",
    "                   # here, we store the questions used for future reference\n",
    "                  data={\n",
    "                    \"questions\":[\"How satisfied were you with your performance?\",\n",
    "                                \"How satisfied were you with the interface?\"]}\n",
    "                    )\n"
   ]
  },
  {
   "cell_type": "markdown",
   "metadata": {},
   "source": [
    "## Sessions\n",
    "**ExperimentLog** uses the concept of *sessions* to manage experimental data. Sessions are much like folders in a filesystem and usually form a hierarchy, for example:\n",
    "    \n",
    "    /\n",
    "        Experiment1/\n",
    "            ConditionA/\n",
    "                Rep1/\n",
    "                Rep2/\n",
    "                Rep3/\n",
    "            ConditionB/\n",
    "                Rep1/\n",
    "                Rep2/\n",
    "                Rep3/\n",
    "                \n",
    "        Experiment 2\n",
    "            ConditionA/\n",
    "                Rep1/\n",
    "                Rep2/\n",
    "                Rep3/\n",
    "                Rep4/\n",
    "            ConditionC/\n",
    "                Rep1/\n",
    "                Rep2/\n",
    "                Rep3/\n",
    "                Rep4/\n",
    "    "
   ]
  },
  {
   "cell_type": "markdown",
   "metadata": {},
   "source": [
    "Each *session* type has **metadata** attached to it; for example giving the parameters for a given condition. \n",
    "\n",
    "When an experiment is run, **instances** of sessions are created, like files inside the filesystem."
   ]
  },
  {
   "cell_type": "code",
   "execution_count": 3,
   "metadata": {
    "collapsed": false
   },
   "outputs": [],
   "source": [
    "if e.get_stage()==\"init\":\n",
    "    # We'll register an experiment, with three different conditions\n",
    "    e.register_session(\"Experiment\", description=\"The main experiment\", \n",
    "                           data={\"target_size\":40.0, \"cursor_size\":5.0})\n",
    "    e.register_session(\"ConditionA\",description=\"Condition A:circular targets\", \n",
    "                           data={\"targets\":[\"circle\"]})\n",
    "    e.register_session(\"ConditionB\", description=\"Condition B:square targets\", \n",
    "                           data={\"targets\":[\"square\"]})\n",
    "    e.register_session(\"ConditionC\", description=\"Condition C:mixed targets\", \n",
    "                           data={\"targets\":[\"circle\",\"mixed\"]})\n"
   ]
  },
  {
   "cell_type": "markdown",
   "metadata": {},
   "source": [
    "We'd usually only want to do this once-ever; this setup procedure can be recorded by changing the database **stage**:"
   ]
  },
  {
   "cell_type": "code",
   "execution_count": 4,
   "metadata": {
    "collapsed": true
   },
   "outputs": [],
   "source": [
    "# mark the database as ready to log data\n",
    "e.set_stage(\"setup\")"
   ]
  },
  {
   "cell_type": "markdown",
   "metadata": {},
   "source": [
    "## Users\n",
    "Each instance of a session (usually) involves experimental subjects. Each user should be registered, and then attached to a recording session. Multiple users can be attached to one session (e.g. for experiments with groups) but normally there will just be one user.\n",
    "\n",
    "The `pseudo` module can generate pronounceable, random, verifiable pseudonyms for subjects.\n"
   ]
  },
  {
   "cell_type": "code",
   "execution_count": 5,
   "metadata": {
    "collapsed": false
   },
   "outputs": [
    {
     "name": "stdout",
     "output_type": "stream",
     "text": [
      "NAHUR-ULELU\n"
     ]
    }
   ],
   "source": [
    "import pseudo\n",
    "user = pseudo.get_pseudo()\n",
    "print user"
   ]
  },
  {
   "cell_type": "code",
   "execution_count": 6,
   "metadata": {
    "collapsed": false
   },
   "outputs": [
    {
     "data": {
      "text/plain": [
       "'NAHUR-ULELU'"
      ]
     },
     "execution_count": 6,
     "metadata": {},
     "output_type": "execute_result"
    }
   ],
   "source": [
    "# now register the user with the database\n",
    "e.register_user(name=user, user_vars={\"age\":30, \"leftright\":\"right\"})\n"
   ]
  },
  {
   "cell_type": "markdown",
   "metadata": {},
   "source": [
    "## Runs\n",
    "Finally, each **run** of the experimental session is logged. If there are any variables that change on a per-run basis (e.g. calibration parameters) they can be stored here.\n",
    "\n",
    "The experimenter running this trial should be specified for each run."
   ]
  },
  {
   "cell_type": "code",
   "execution_count": 7,
   "metadata": {
    "collapsed": true
   },
   "outputs": [],
   "source": [
    "e.start_run(experimenter=\"JHW\")"
   ]
  },
  {
   "cell_type": "code",
   "execution_count": 8,
   "metadata": {
    "collapsed": false
   },
   "outputs": [],
   "source": [
    "# attach the user to this experimental run\n",
    "e.add_active_user(user)\n",
    "# enter conditionA of experiment\n",
    "e.enter_session(\"Experiment\")\n",
    "e.enter_session(\"ConditionA\")\n",
    "e.enter_session() # Unnammed sessions are assumed to repetitions"
   ]
  },
  {
   "cell_type": "code",
   "execution_count": 9,
   "metadata": {
    "collapsed": false
   },
   "outputs": [
    {
     "name": "stdout",
     "output_type": "stream",
     "text": [
      "/Experiment/ConditionA/None\n"
     ]
    }
   ],
   "source": [
    "print e.session_path\n"
   ]
  },
  {
   "cell_type": "code",
   "execution_count": 10,
   "metadata": {
    "collapsed": false
   },
   "outputs": [
    {
     "data": {
      "text/plain": [
       "2"
      ]
     },
     "execution_count": 10,
     "metadata": {},
     "output_type": "execute_result"
    }
   ],
   "source": [
    "# log some data\n",
    "e.log(\"mouse\", data={\"x\":0, \"y\":10})\n",
    "e.log(\"mouse\", data={\"x\":0, \"y\":20})"
   ]
  },
  {
   "cell_type": "markdown",
   "metadata": {},
   "source": [
    "Test how fast we can write into the database:"
   ]
  },
  {
   "cell_type": "code",
   "execution_count": 11,
   "metadata": {
    "collapsed": false
   },
   "outputs": [
    {
     "name": "stdout",
     "output_type": "stream",
     "text": [
      "50000 loops, best of 3: 9.23 µs per loop\n"
     ]
    }
   ],
   "source": [
    "%%timeit -n 50000\n",
    "e.log(\"mouse\", data={\"x\":20, \"y\":20})"
   ]
  },
  {
   "cell_type": "code",
   "execution_count": 12,
   "metadata": {
    "collapsed": false
   },
   "outputs": [
    {
     "data": {
      "text/plain": [
       "150003"
      ]
     },
     "execution_count": 12,
     "metadata": {},
     "output_type": "execute_result"
    }
   ],
   "source": [
    "# log questionnaire output\n",
    "e.log(\"satisfaction\", data={\"q1\":4,\"q2\":5})"
   ]
  },
  {
   "cell_type": "code",
   "execution_count": 13,
   "metadata": {
    "collapsed": false
   },
   "outputs": [],
   "source": [
    "# leave this repetition\n",
    "e.leave_session() \n",
    "\n",
    "# move out of condition A\n",
    "e.leave_session()"
   ]
  },
  {
   "cell_type": "code",
   "execution_count": 14,
   "metadata": {
    "collapsed": true
   },
   "outputs": [],
   "source": [
    "e.enter_session(\"ConditionB\")"
   ]
  },
  {
   "cell_type": "code",
   "execution_count": 15,
   "metadata": {
    "collapsed": true
   },
   "outputs": [],
   "source": [
    "# could log more stuff..."
   ]
  },
  {
   "cell_type": "code",
   "execution_count": 16,
   "metadata": {
    "collapsed": false
   },
   "outputs": [],
   "source": [
    "x = np.random.uniform(-1,1,(16,16))\n",
    "i = e.log(\"important_matrix\")\n",
    "# if we need to attach binary data to a log file (e.g. an image), we can do this:\n",
    "# in general, it is best to avoid using blobs unless absolutely necessary\n",
    "e.attach_blob(i, np_to_str({\"matrix\":(x)}))"
   ]
  },
  {
   "cell_type": "code",
   "execution_count": 17,
   "metadata": {
    "collapsed": true
   },
   "outputs": [],
   "source": [
    "e.leave_session()\n",
    "e.leave_session()\n",
    "# back to the root"
   ]
  },
  {
   "cell_type": "code",
   "execution_count": 18,
   "metadata": {
    "collapsed": true
   },
   "outputs": [],
   "source": [
    "e.end_run() # end the run"
   ]
  },
  {
   "cell_type": "code",
   "execution_count": 19,
   "metadata": {
    "collapsed": false
   },
   "outputs": [
    {
     "name": "stdout",
     "output_type": "stream",
     "text": [
      "1455182820.34\n",
      "{\"y\": 10, \"x\": 0}\n"
     ]
    }
   ],
   "source": [
    "# print some results with raw SQL queries\n",
    "mouse_log = e.cursor.execute(\"SELECT time, json FROM mouse\", ())\n",
    "print \"\\n\".join([str(m) for m in mouse_log.fetchone()])"
   ]
  },
  {
   "cell_type": "code",
   "execution_count": 20,
   "metadata": {
    "collapsed": true
   },
   "outputs": [],
   "source": [
    "import report"
   ]
  },
  {
   "cell_type": "code",
   "execution_count": 21,
   "metadata": {
    "collapsed": false
   },
   "outputs": [
    {
     "name": "stderr",
     "output_type": "stream",
     "text": [
      "c:\\conda64\\lib\\site-packages\\IPython\\nbconvert.py:13: ShimWarning: The `IPython.nbconvert` package has been deprecated. You should import from ipython_nbconvert instead.\n",
      "  \"You should import from ipython_nbconvert instead.\", ShimWarning)\n"
     ]
    }
   ],
   "source": [
    "import IPython.nbconvert\n",
    "from IPython.core.display import HTML\n",
    "def md_html(md):    \n",
    "    return HTML(IPython.nbconvert.filters.markdown.markdown2html(md))"
   ]
  },
  {
   "cell_type": "code",
   "execution_count": 22,
   "metadata": {
    "collapsed": false
   },
   "outputs": [
    {
     "data": {
      "text/html": [
       "<h1 id=\"Report-generated-for-none\">Report generated for none<a class=\"anchor-link\" href=\"#Report-generated-for-none\">&#182;</a></h1><hr>\n",
       "<h4 id=\"Report-date:-Thu-Feb-11-09:27:03-2016\">Report date: Thu Feb 11 09:27:03 2016<a class=\"anchor-link\" href=\"#Report-date:-Thu-Feb-11-09:27:03-2016\">&#182;</a></h4><hr>\n",
       "<h2 id=\"Runs\">Runs<a class=\"anchor-link\" href=\"#Runs\">&#182;</a></h2><ul>\n",
       "<li>Number of runs: 1</li>\n",
       "<li>Total duration recorded: 1.5 seconds</li>\n",
       "<li>Dirty exits: 0</li>\n",
       "</ul>\n",
       "<hr>\n",
       "<h2 id=\"Sessions\">Sessions<a class=\"anchor-link\" href=\"#Sessions\">&#182;</a></h2><h4 id=\"/Experiment\">/Experiment<a class=\"anchor-link\" href=\"#/Experiment\">&#182;</a></h4><ul>\n",
       "<li>Runs: 1</li>\n",
       "<li>Duration recorded: 1.47099995613 seconds</li>\n",
       "</ul>\n",
       "<h4 id=\"/Experiment/ConditionA\">/Experiment/ConditionA<a class=\"anchor-link\" href=\"#/Experiment/ConditionA\">&#182;</a></h4><ul>\n",
       "<li>Runs: 1</li>\n",
       "<li>Duration recorded: 1.4240000248 seconds</li>\n",
       "</ul>\n",
       "<h4 id=\"/Experiment/ConditionA/None\">/Experiment/ConditionA/None<a class=\"anchor-link\" href=\"#/Experiment/ConditionA/None\">&#182;</a></h4><ul>\n",
       "<li>Runs: 1</li>\n",
       "<li>Duration recorded: 1.4240000248 seconds</li>\n",
       "</ul>\n",
       "<h4 id=\"/Experiment/ConditionB\">/Experiment/ConditionB<a class=\"anchor-link\" href=\"#/Experiment/ConditionB\">&#182;</a></h4><ul>\n",
       "<li>Runs: 1</li>\n",
       "<li>Duration recorded: 0.0309998989105 seconds</li>\n",
       "</ul>\n",
       "<hr>\n",
       "<h2 id=\"Users\">Users<a class=\"anchor-link\" href=\"#Users\">&#182;</a></h2><ul>\n",
       "<li>Unique users: 1</li>\n",
       "</ul>\n",
       "<h4 id=\"NAHUR-ULELU\">NAHUR-ULELU<a class=\"anchor-link\" href=\"#NAHUR-ULELU\">&#182;</a></h4><p><strong>JSON</strong></p>\n",
       "\n",
       "<pre><code>    {\n",
       "        \"age\": 30,\n",
       "        \"leftright\": \"right\"\n",
       "    }\n",
       "\n",
       "</code></pre>\n",
       "<p>Duration recorded: 4.34999990463 seconds\n",
       "Paths recorded:\n",
       "    /Experiment\n",
       "    /Experiment/ConditionA\n",
       "    /Experiment/ConditionA/None</p>\n",
       "\n",
       "<pre><code>/Experiment/ConditionB\n",
       "</code></pre>\n",
       "<hr>\n",
       "<h2 id=\"Log\">Log<a class=\"anchor-link\" href=\"#Log\">&#182;</a></h2><ul>\n",
       "<li>Log streams recorded: mouse,important_matrix,satisfaction</li>\n",
       "</ul>\n",
       "<h4 id=\"mouse\">mouse<a class=\"anchor-link\" href=\"#mouse\">&#182;</a></h4><h5 id=\"A-time-series-of-x,y-cursor-positions\">A time series of x,y cursor positions<a class=\"anchor-link\" href=\"#A-time-series-of-x,y-cursor-positions\">&#182;</a></h5><p><strong>JSON</strong></p>\n",
       "\n",
       "<pre><code>    {\n",
       "        \"dpi\": 3000,\n",
       "        \"mouse_device\": \"Logitech MX600\",\n",
       "        \"sample_rate\": 60\n",
       "    }\n",
       "\n",
       "</code></pre>\n",
       "<ul>\n",
       "<li>Total entries: 150002</li>\n",
       "</ul>\n",
       "<h4 id=\"important_matrix\">important_matrix<a class=\"anchor-link\" href=\"#important_matrix\">&#182;</a></h4><h5 id=\"A-matrix\">A matrix<a class=\"anchor-link\" href=\"#A-matrix\">&#182;</a></h5><p><strong>JSON</strong></p>\n",
       "\n",
       "<pre><code>    null\n",
       "\n",
       "</code></pre>\n",
       "<ul>\n",
       "<li>Total entries: 1</li>\n",
       "</ul>\n",
       "<h4 id=\"satisfaction\">satisfaction<a class=\"anchor-link\" href=\"#satisfaction\">&#182;</a></h4><h5 id=\"A-simple-satisfaction-score\">A simple satisfaction score<a class=\"anchor-link\" href=\"#A-simple-satisfaction-score\">&#182;</a></h5><p><strong>JSON</strong></p>\n",
       "\n",
       "<pre><code>    {\n",
       "        \"questions\": [\n",
       "            \"How satisfied were you with your performance?\",\n",
       "            \"How satisfied were you with the interface?\"\n",
       "        ]\n",
       "    }\n",
       "\n",
       "</code></pre>\n",
       "<ul>\n",
       "<li>Total entries: 1</li>\n",
       "</ul>\n",
       "<hr>\n"
      ],
      "text/plain": [
       "<IPython.core.display.HTML object>"
      ]
     },
     "execution_count": 22,
     "metadata": {},
     "output_type": "execute_result"
    }
   ],
   "source": [
    "md_html(report.string_report(e.cursor))"
   ]
  },
  {
   "cell_type": "markdown",
   "metadata": {},
   "source": [
    "### Post-processing\n",
    "Once all data is logged, it is wise to add indices so that logs can be accessed quickly."
   ]
  },
  {
   "cell_type": "code",
   "execution_count": 23,
   "metadata": {
    "collapsed": false
   },
   "outputs": [],
   "source": [
    "# should only do this when all data is logged; otherwise there may be\n",
    "# a performance penalty\n",
    "e.add_indices()"
   ]
  },
  {
   "cell_type": "markdown",
   "metadata": {},
   "source": [
    "## SQL format\n",
    "There are a few basic tables in the ExperimentLog:\n",
    "\n",
    "#### Metadata\n",
    "    meta: \n",
    "        id, Unique ID\n",
    "        mtype,    Type of this metadata: one of LOG, SESSION, USER, PATH\n",
    "        name,     Name of the object, e.g. user pseudonyn\n",
    "        type,     (Optional) type tag\n",
    "        description, (Optional) text description\n",
    "        json       (Optional) JSON string holding any other metadata.\n",
    "\n",
    "The metadata for a log, session or user, path. `mtype` specifies the kind of metadata it is. There are convenience views of this table:\n",
    "\n",
    "    log_stream\n",
    "    users\n",
    "    session_meta\n",
    "    paths\n",
    "\n",
    "All have the same fields as above.\n",
    "\n",
    "#### Session\n",
    "\n",
    "        session: \n",
    "            id,          Unique ID\n",
    "            start_time,  Time this session was started\n",
    "            end_time,    Time this session was completed (if it was)\n",
    "            last_time,   Last time a log was written for this session\n",
    "            test_run,    If this is a test run or not\n",
    "            random_seed, Random seed used for this session can be stored here\n",
    "            valid,       If this session was marked valid or not\n",
    "            complete,    If this session was marked completed or not\n",
    "            parent,      ID of the session this session is a subsession of\n",
    "            path,        ID of the full path this session belongs to\n",
    "            json,        Any additional metadata\n",
    "\n",
    "        \n",
    "       run_session: (maps sessions to runs)\n",
    "           id,           Unique ID\n",
    "           run,          ID of the run\n",
    "           session,      ID of the session\n",
    "           \n",
    "       user_session: (maps users to sessions)\n",
    "           id,           Unique ID\n",
    "           session,      ID of the session\n",
    "           user,         ID of the user\n",
    "           role,         (optional) String giving the role the user plays\n",
    "           json,         (optional) Any session-specific user variables.\n",
    "           \n",
    "#### Logs\n",
    "\n",
    "    log:\n",
    "        id,         Unique ID\n",
    "        time,       Timestamp\n",
    "        valid,      Valid flag for this data (e.g. to mark faulty sensor data)\n",
    "        stream,     ID of the stream this log belongs to\n",
    "        session,    ID of the session this log entry belongs to\n",
    "        json,       The log entry itself        \n",
    "        tag,        (optional) tag for this log entry\n",
    "        \n",
    "        \n",
    "When a new log is created, it also creates a new view with the given stream name; so `e.register_log(\"mouse\")` creates a new view table `mouse` with the same fields as `log`.\n",
    "\n",
    "\n",
    "    blob:\n",
    "        id,         Unique ID\n",
    "        blob,       Binary blob \n",
    "        log,        Log this blob attaches to\n",
    "        \n",
    "\n",
    "### Misc\n",
    "\n",
    "    children: (maps sessions to all of their children sessions)\n",
    "        id,     Unique ID\n",
    "        parent, ID of the parent session\n",
    "        child,  ID of the child session\n",
    "\n",
    "This is automatically filled in by `enter_session()`/`leave_session()`\n",
    "       \n",
    "    setup:\n",
    "        id,      Unique ID\n",
    "        time,    Time of the stage change\n",
    "        stage,   Stage of the database\n",
    "\n",
    "This is normally only used to record whether the database is fully setup or not.\n",
    "\n"
   ]
  },
  {
   "cell_type": "markdown",
   "metadata": {},
   "source": [
    "### Custom tables\n",
    "If you want to log values with a **custom** table where the fields are not just plain JSON, you can add a new table to the database and just attach it to the log fields. The `log()` function returns the ID of the new log entry; use this as a foreign key in the new log table.\n",
    "\n",
    "Example:\n",
    "\n",
    "\n"
   ]
  },
  {
   "cell_type": "code",
   "execution_count": 24,
   "metadata": {
    "collapsed": false,
    "scrolled": true
   },
   "outputs": [],
   "source": [
    "# make the new table -- must have a reference to the main\n",
    "# log table\n",
    "e.execute(\"\"\"CREATE TABLE accelerometer \n",
    "          (id INTEGER PRIMARY KEY, device INT, x REAL, y REAL, z REAL, log INT,\n",
    "          FOREIGN KEY(log) REFERENCES log(id))\n",
    "          \"\"\")\n",
    "\n",
    "# register a new stream\n",
    "e.register_stream(name=\"acc\", description=\"A time series of accelerometer values\")\n",
    "\n",
    "# now log a new value, put it into the separate accelerometer table and link\n",
    "# it to the main log\n",
    "def log_acc(dev,x,y,z):\n",
    "    log_id = e.log(\"acc\")\n",
    "    e.execute(\"INSERT INTO accelerometer VALUES (?,?,?,?,?)\", \n",
    "              (dev, x, y, z, log_id))\n"
   ]
  },
  {
   "cell_type": "markdown",
   "metadata": {
    "collapsed": true
   },
   "source": [
    "### Sync points\n",
    "If you are recording media alongside an experimental trial (e.g. a video), you can use **sync_points** to record the link between external media and the master log.\n",
    "\n",
    "Usage:\n",
    "    \n",
    "    # look up a log entry with a sync point\n",
    "    t = e.execute('SELECT time FROM log WHERE tag=\"video_sync_mark\"').fetchone()[0]\n",
    "    sync(\"myvideo.mp4\", start_time=t)\n",
    "    \n",
    "If you want to record a segment of a video as being aligned:\n",
    "\n",
    "    t = e.execute('SELECT time FROM log WHERE tag=\"video_sync_mark\"').fetchone()[0]\n",
    "    # marks a synchronisation of myvideo.mp4, from 20.0 -> 25.0 to the log time starting at t\n",
    "    sync(\"myvideo.mp4\", start_time=t, duration=5.0, media_start_time=20.0)\n",
    "    \n",
    "    \n"
   ]
  },
  {
   "cell_type": "markdown",
   "metadata": {},
   "source": [
    "### NTP\n",
    "To ensure logs are consistent in their timings, `ExperimentLog` will try and sync to an NTP server on start-up and will record all times with the estimated clock offset already applied.\n",
    "\n",
    "If you pass `ntp_sync=False` to the ExperimentLog constructor, this will be skipped. Custom NTP servers can also be passed as a list:\n",
    "\n",
    "    # don't sync to NTP (not recommended)\n",
    "    e = ExperimentLog(ntp_sync=False)\n",
    "    \n",
    "    # use custom NTP servers\n",
    "    e = ExperimentLog(ntp_servers=[\"1.pool.ntp.org\", \"2.pool.ntp.org\"])\n"
   ]
  },
  {
   "cell_type": "markdown",
   "metadata": {},
   "source": [
    "### Whole-dataset metadata\n",
    "Dataset-wide metadata can be set with `set_meta()` and read with `get_meta()`. The report auto-generator can use this to build automatic readme files suitable for deposit for open access.\n",
    "\n",
    "The following fields should be set:\n",
    "\n",
    "* *title* (title of this dataset)\n",
    "* *institution* (institution(s) this dataset was recorded by)\n",
    "* *authors* (comma separated list of authors)\n",
    "* *license* (e.g. CC-BY-SA 2.0)\n",
    "* *confidential* (e.g. No, InternalOnly, ConsortiumOnly, Confidential, StrictlyConfidential), etc.\n",
    "* *funder* (name of funder and project name/code)\n",
    "* *ethics* (ethics board approval number)\n",
    "* *paper* (full details of associated paper)\n",
    "* *short_description* (one sentence description of the data set)\n",
    "* *description* (longer description of the dataset)\n",
    "* *doi* (DOI of this dataset)\n"
   ]
  },
  {
   "cell_type": "code",
   "execution_count": 25,
   "metadata": {
    "collapsed": false
   },
   "outputs": [],
   "source": [
    "e.set_meta(title=\"TestSet-1\", institution=\"University of Glasgow\")\n",
    "e.set_meta(authors=\"John Williamson\", license=\"CC-BY-SA 2.0\", confidential=\"no\", funder=\"XXX Grant ABC:nnnn\", ethics=\"CSExxxxx\")\n",
    "e.set_meta(paper=\"'A good paper', Williamson J., Proceedings of Things International 2016, pp.44-46\")\n",
    "e.set_meta(description=\"A study of the experimental logging process. Includes numerous repetitive examples of simple logged data.\")\n",
    "e.set_meta(short_description=\"A quick logging test.\")\n",
    "e.set_meta(doi=\"DOI:xxxxxx\")\n"
   ]
  },
  {
   "cell_type": "code",
   "execution_count": 26,
   "metadata": {
    "collapsed": false
   },
   "outputs": [
    {
     "name": "stdout",
     "output_type": "stream",
     "text": [
      "{u'ethics': u'CSExxxxx', u'doi': u'DOI:xxxxxx', u'confidential': u'no', u'license': u'CC-BY-SA 2.0', u'title': u'TestSet-1', u'paper': u\"'A good paper', Williamson J., Proceedings of Things International 2016, pp.44-46\", u'authors': u'John Williamson', u'short_description': u'A quick logging test.', u'funder': u'XXX Grant ABC:nnnn', u'institution': u'University of Glasgow', u'description': u'A study of the experimental logging process. Includes numerous repetitive examples of simple logged data.'}\n"
     ]
    }
   ],
   "source": [
    "print e.get_meta()"
   ]
  },
  {
   "cell_type": "code",
   "execution_count": 27,
   "metadata": {
    "collapsed": false
   },
   "outputs": [
    {
     "data": {
      "text/html": [
       "<h1 id=\"TestSet-1\">TestSet-1<a class=\"anchor-link\" href=\"#TestSet-1\">&#182;</a></h1><h4 id=\"A-quick-logging-test.\">A quick logging test.<a class=\"anchor-link\" href=\"#A-quick-logging-test.\">&#182;</a></h4><h4 id=\"DOI:-DOI:xxxxxx\">DOI: DOI:xxxxxx<a class=\"anchor-link\" href=\"#DOI:-DOI:xxxxxx\">&#182;</a></h4><hr>\n",
       "<h4 id=\"Report-date:-Thu-Feb-11-09:27:04-2016\">Report date: Thu Feb 11 09:27:04 2016<a class=\"anchor-link\" href=\"#Report-date:-Thu-Feb-11-09:27:04-2016\">&#182;</a></h4><hr>\n",
       "<h4 id=\"Authors:-John-Williamson\">Authors: John Williamson<a class=\"anchor-link\" href=\"#Authors:-John-Williamson\">&#182;</a></h4><h4 id=\"Institution:-University-of-Glasgow\">Institution: University of Glasgow<a class=\"anchor-link\" href=\"#Institution:-University-of-Glasgow\">&#182;</a></h4><h4 id=\"License:-CC-BY-SA-2.0\">License: CC-BY-SA 2.0<a class=\"anchor-link\" href=\"#License:-CC-BY-SA-2.0\">&#182;</a></h4><hr>\n",
       "<h2 id=\"Confidential:-no\">Confidential: no<a class=\"anchor-link\" href=\"#Confidential:-no\">&#182;</a></h2><hr>\n",
       "<h4 id=\"Funded-by:-XXX-Grant-ABC:nnnn\">Funded by: XXX Grant ABC:nnnn<a class=\"anchor-link\" href=\"#Funded-by:-XXX-Grant-ABC:nnnn\">&#182;</a></h4><h4 id=\"Associated-paper:--'A-good-paper',-Williamson-J.,-Proceedings-of-Things-International-2016,-pp.44-46\">Associated paper:  'A good paper', Williamson J., Proceedings of Things International 2016, pp.44-46<a class=\"anchor-link\" href=\"#Associated-paper:--'A-good-paper',-Williamson-J.,-Proceedings-of-Things-International-2016,-pp.44-46\">&#182;</a></h4><h4 id=\"Ethics-board-approval-number:-CSExxxxx\">Ethics board approval number: CSExxxxx<a class=\"anchor-link\" href=\"#Ethics-board-approval-number:-CSExxxxx\">&#182;</a></h4><hr>\n",
       "<p><strong>Description</strong>  A study of the experimental logging process. Includes numerous repetitive examples of simple logged data.</p>\n",
       "<hr>\n",
       "<ul>\n",
       "<li>Data acquired from 11 February 2016 to 11 February 2016</li>\n",
       "</ul>\n",
       "<hr>\n",
       "<ul>\n",
       "<li>Number of experimental runs: 1</li>\n",
       "<li>Total duration recorded: 1.5 seconds</li>\n",
       "<li>Number of users: 1</li>\n",
       "<li>Total logged entries: 150004</li>\n",
       "</ul>\n",
       "<hr>\n"
      ],
      "text/plain": [
       "<IPython.core.display.HTML object>"
      ]
     },
     "execution_count": 27,
     "metadata": {},
     "output_type": "execute_result"
    }
   ],
   "source": [
    "md_html(report.string_readme(e.cursor))"
   ]
  },
  {
   "cell_type": "code",
   "execution_count": null,
   "metadata": {
    "collapsed": true
   },
   "outputs": [],
   "source": []
  },
  {
   "cell_type": "code",
   "execution_count": null,
   "metadata": {
    "collapsed": true
   },
   "outputs": [],
   "source": []
  }
 ],
 "metadata": {
  "kernelspec": {
   "display_name": "Python 2",
   "language": "python",
   "name": "python2"
  },
  "language_info": {
   "codemirror_mode": {
    "name": "ipython",
    "version": 2
   },
   "file_extension": ".py",
   "mimetype": "text/x-python",
   "name": "python",
   "nbconvert_exporter": "python",
   "pygments_lexer": "ipython2",
   "version": "2.7.11"
  }
 },
 "nbformat": 4,
 "nbformat_minor": 0
}
