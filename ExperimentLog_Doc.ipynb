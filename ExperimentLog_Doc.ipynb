{
 "cells": [
  {
   "cell_type": "markdown",
   "metadata": {},
   "source": [
    "## Experiment logger\n",
    "The logger stores experimental data in a single SQLite database. It is intended to be fast and lightweight, but record all necessary meta data and timestamps for experimental trials.\n",
    "\n",
    "Most of the entries are stored as JSON strings in the database tables; any object that can be serialised by Python's `json` module can be added directly.\n",
    "\n",
    "### Connecting to the database"
   ]
  },
  {
   "cell_type": "code",
   "execution_count": 1,
   "metadata": {
    "collapsed": true
   },
   "outputs": [],
   "source": [
    "from experimentlog import ExperimentLog\n",
    "\n",
    "## open a connection to a database; will be created if it does not exist.\n",
    "# here we use a memory database so the results are not stored to disk\n",
    "e = ExperimentLog(\":memory:\")"
   ]
  },
  {
   "cell_type": "markdown",
   "metadata": {},
   "source": [
    "### Setting up the database\n",
    "When a log is set up for the first time, the database needs to be configured for the experimental sessions. \n",
    "\n",
    "Each sensor/information **stream** needs to be registered with the database. This could be individual sensors like a mouse (x,y) time series, or questionnaire results.\n",
    "Every entry in the log stream maintains the time, tag and a \"valid\" flag for each entry, plus the JSON representing the data logged."
   ]
  },
  {
   "cell_type": "code",
   "execution_count": 2,
   "metadata": {
    "collapsed": false
   },
   "outputs": [],
   "source": [
    "# check if we've already set everything up\n",
    "if e.get_stage()==\"init\":\n",
    "    \n",
    "    # we'll log from two streams: the mouse time series, and a post-condition questionnaire\n",
    "    e.register_stream(name=\"mouse\", description=\"A time series of x,y cursor positions\",\n",
    "                   # the data is optional, and can contain anything you want \n",
    "                  data={\n",
    "                    \"sample_rate\": 60,\n",
    "                    \"dpi\": 3000,\n",
    "                    \"mouse_device\":\"Logitech MX600\"})\n",
    "\n",
    "    e.register_stream(name=\"satisfaction\", \n",
    "                   description=\"A simple satisfaction score\",\n",
    "                   # here, we store the questions used for future reference\n",
    "                  data={\n",
    "                    \"questions\":[\"How satisfied were you with your performance?\",\n",
    "                                \"How satisfied were you with the interface?\"]}\n",
    "                    )\n"
   ]
  },
  {
   "cell_type": "markdown",
   "metadata": {},
   "source": [
    "## Sessions\n",
    "**ExperimentLog** uses the concept of *sessions* to manage experimental data. Sessions are much like folders in a filesystem and usually form a hierarchy, for example:\n",
    "    \n",
    "    /\n",
    "        Experiment1/\n",
    "            ConditionA/\n",
    "                Rep1/\n",
    "                Rep2/\n",
    "                Rep3/\n",
    "            ConditionB/\n",
    "                Rep1/\n",
    "                Rep2/\n",
    "                Rep3/\n",
    "                \n",
    "        Experiment 2\n",
    "            ConditionA/\n",
    "                Rep1/\n",
    "                Rep2/\n",
    "                Rep3/\n",
    "                Rep4/\n",
    "            ConditionC/\n",
    "                Rep1/\n",
    "                Rep2/\n",
    "                Rep3/\n",
    "                Rep4/\n",
    "    "
   ]
  },
  {
   "cell_type": "markdown",
   "metadata": {},
   "source": [
    "Each *session* type has **metadata** attached to it; for example giving the parameters for a given condition. \n",
    "\n",
    "When an experiment is run, **instances** of sessions are created, like files inside the filesystem."
   ]
  },
  {
   "cell_type": "code",
   "execution_count": 3,
   "metadata": {
    "collapsed": false
   },
   "outputs": [],
   "source": [
    "if e.get_stage()==\"init\":\n",
    "    # We'll register an experiment, with three different conditions\n",
    "    e.register_session(\"Experiment\", description=\"The main experiment\", \n",
    "                           data={\"target_size\":40.0, \"cursor_size\":5.0})\n",
    "    e.register_session(\"ConditionA\",description=\"Condition A:circular targets\", \n",
    "                           data={\"targets\":[\"circle\"]})\n",
    "    e.register_session(\"ConditionB\", description=\"Condition B:square targets\", \n",
    "                           data={\"targets\":[\"square\"]})\n",
    "    e.register_session(\"ConditionC\", description=\"Condition C:mixed targets\", \n",
    "                           data={\"targets\":[\"circle\",\"mixed\"]})\n"
   ]
  },
  {
   "cell_type": "markdown",
   "metadata": {},
   "source": [
    "We'd usually only want to do this once-ever; this setup procedure can be recorded by changing the database **stage**:"
   ]
  },
  {
   "cell_type": "code",
   "execution_count": 39,
   "metadata": {
    "collapsed": true
   },
   "outputs": [],
   "source": [
    "# mark the database as ready to log data\n",
    "e.set_stage(\"setup\")"
   ]
  },
  {
   "cell_type": "markdown",
   "metadata": {},
   "source": [
    "## Users\n",
    "Each instance of a session (usually) involves experimental subjects. Each user should be registered, and then attached to a recording session. Multiple users can be attached to one session (e.g. for experiments with groups) but normally there will just be one user.\n",
    "\n",
    "The `pseudo` module can generate pronounceable, random, verifiable pseudonyms for subjects.\n"
   ]
  },
  {
   "cell_type": "code",
   "execution_count": 5,
   "metadata": {
    "collapsed": false
   },
   "outputs": [
    {
     "name": "stdout",
     "output_type": "stream",
     "text": [
      "SIKOW-ESAWI\n"
     ]
    }
   ],
   "source": [
    "import pseudo\n",
    "user = pseudo.get_pseudo()\n",
    "print user"
   ]
  },
  {
   "cell_type": "code",
   "execution_count": 6,
   "metadata": {
    "collapsed": false
   },
   "outputs": [
    {
     "data": {
      "text/plain": [
       "'SIKOW-ESAWI'"
      ]
     },
     "execution_count": 6,
     "metadata": {},
     "output_type": "execute_result"
    }
   ],
   "source": [
    "# now register the user with the database\n",
    "e.register_user(name=user, user_vars={\"age\":30, \"leftright\":\"right\"})\n"
   ]
  },
  {
   "cell_type": "markdown",
   "metadata": {},
   "source": [
    "## Runs\n",
    "Finally, each **run** of the experimental session is logged. If there are any variables that change on a per-run basis (e.g. calibration parameters) they can be stored here.\n",
    "\n",
    "The experimenter running this trial should be specified for each run."
   ]
  },
  {
   "cell_type": "code",
   "execution_count": 25,
   "metadata": {
    "collapsed": true
   },
   "outputs": [],
   "source": [
    "e.start_run(experimenter=\"JHW\")"
   ]
  },
  {
   "cell_type": "code",
   "execution_count": 26,
   "metadata": {
    "collapsed": false
   },
   "outputs": [],
   "source": [
    "# attach the user to this experimental run\n",
    "e.add_active_user(user)\n",
    "# enter conditionA of experiment\n",
    "e.enter_session(\"Experiment\")\n",
    "e.enter_session(\"ConditionA\")"
   ]
  },
  {
   "cell_type": "code",
   "execution_count": 27,
   "metadata": {
    "collapsed": false
   },
   "outputs": [
    {
     "data": {
      "text/plain": [
       "5"
      ]
     },
     "execution_count": 27,
     "metadata": {},
     "output_type": "execute_result"
    }
   ],
   "source": [
    "e.log(\"mouse\", data={\"x\":0, \"y\":10})"
   ]
  },
  {
   "cell_type": "code",
   "execution_count": 28,
   "metadata": {
    "collapsed": false
   },
   "outputs": [
    {
     "data": {
      "text/plain": [
       "6"
      ]
     },
     "execution_count": 28,
     "metadata": {},
     "output_type": "execute_result"
    }
   ],
   "source": [
    "e.log(\"mouse\", data={\"x\":0, \"y\":20})"
   ]
  },
  {
   "cell_type": "code",
   "execution_count": 29,
   "metadata": {
    "collapsed": false
   },
   "outputs": [
    {
     "data": {
      "text/plain": [
       "7"
      ]
     },
     "execution_count": 29,
     "metadata": {},
     "output_type": "execute_result"
    }
   ],
   "source": [
    "e.log(\"mouse\", data={\"x\":20, \"y\":20})"
   ]
  },
  {
   "cell_type": "code",
   "execution_count": 30,
   "metadata": {
    "collapsed": false
   },
   "outputs": [
    {
     "data": {
      "text/plain": [
       "8"
      ]
     },
     "execution_count": 30,
     "metadata": {},
     "output_type": "execute_result"
    }
   ],
   "source": [
    "e.log(\"satisfaction\", data={\"q1\":4,\"q2\":5})"
   ]
  },
  {
   "cell_type": "code",
   "execution_count": 31,
   "metadata": {
    "collapsed": true
   },
   "outputs": [],
   "source": [
    "# move out of condition A\n",
    "e.leave_session()"
   ]
  },
  {
   "cell_type": "code",
   "execution_count": 32,
   "metadata": {
    "collapsed": true
   },
   "outputs": [],
   "source": [
    "e.enter_session(\"ConditionB\")"
   ]
  },
  {
   "cell_type": "code",
   "execution_count": 33,
   "metadata": {
    "collapsed": true
   },
   "outputs": [],
   "source": [
    "# could log more stuff..."
   ]
  },
  {
   "cell_type": "code",
   "execution_count": 34,
   "metadata": {
    "collapsed": true
   },
   "outputs": [],
   "source": [
    "e.leave_session()\n",
    "e.leave_session()\n",
    "# back to the root"
   ]
  },
  {
   "cell_type": "code",
   "execution_count": 35,
   "metadata": {
    "collapsed": true
   },
   "outputs": [],
   "source": [
    "e.end_run() # end the run"
   ]
  },
  {
   "cell_type": "code",
   "execution_count": 36,
   "metadata": {
    "collapsed": false
   },
   "outputs": [
    {
     "name": "stdout",
     "output_type": "stream",
     "text": [
      "(1454596050.824, u'{\"y\": 10, \"x\": 0}')\n",
      "(1454596050.838, u'{\"y\": 20, \"x\": 0}')\n",
      "(1454596050.859, u'{\"y\": 20, \"x\": 20}')\n",
      "(1454596134.062, u'{\"y\": 10, \"x\": 0}')\n",
      "(1454596134.207, u'{\"y\": 20, \"x\": 0}')\n",
      "(1454596134.35, u'{\"y\": 20, \"x\": 20}')\n"
     ]
    }
   ],
   "source": [
    "# print some results with raw SQL queries\n",
    "mouse_log = e.cursor.execute(\"SELECT time, json FROM mouse\", ())\n",
    "print \"\\n\".join([str(m) for m in mouse_log.fetchall()])"
   ]
  },
  {
   "cell_type": "code",
   "execution_count": 37,
   "metadata": {
    "collapsed": true
   },
   "outputs": [],
   "source": [
    "import report"
   ]
  },
  {
   "cell_type": "code",
   "execution_count": 41,
   "metadata": {
    "collapsed": false
   },
   "outputs": [
    {
     "name": "stdout",
     "output_type": "stream",
     "text": [
      "# Report generated for none\n",
      "\n",
      "----------------------------------------\n",
      "#### Report date: Thu Feb 04 14:49:15 2016\n",
      "\n",
      "----------------------------------------\n",
      "\n",
      "## Runs\n",
      "* Number of runs: 2\n",
      "* Total duration recorded: 1.9 seconds\n",
      "* Dirty exits: 0\n",
      "\n",
      "----------------------------------------\n",
      "\n",
      "## Sessions\n",
      "\n",
      "#### /Experiment\n",
      "* Runs: 2\n",
      "* Duration recorded: 1.30399990082 seconds\n",
      "\n",
      "#### /Experiment/ConditionA\n",
      "* Runs: 2\n",
      "* Duration recorded: 0.824000120163 seconds\n",
      "\n",
      "#### /Experiment/ConditionB\n",
      "* Runs: 2\n",
      "* Duration recorded: 0.316999912262 seconds\n",
      "\n",
      "----------------------------------------\n",
      "\n",
      "## Users\n",
      "* Unique users: 1\n",
      "\n",
      "\n",
      "#### SIKOW-ESAWI\n",
      "**JSON** \n",
      " \n",
      "        {\n",
      "            \"age\": 30,\n",
      "            \"leftright\": \"right\"\n",
      "        }\n",
      "        \n",
      "Duration recorded: 0.282999992371 seconds\n",
      "Paths recorded:\n",
      "\t/Experiment\n",
      "\t/Experiment/ConditionA\n",
      "\t/Experiment/ConditionB\n",
      "----------------------------------------\n",
      "\n",
      "## Log\n",
      "* Log streams recorded: mouse,satisfaction\n",
      "\n",
      "#### mouse\n",
      "##### A time series of x,y cursor positions\n",
      "**JSON** \n",
      " \n",
      "        {\n",
      "            \"dpi\": 3000,\n",
      "            \"mouse_device\": \"Logitech MX600\",\n",
      "            \"sample_rate\": 60\n",
      "        }\n",
      "        \n",
      "* Total entries: 6\n",
      "\n",
      "#### satisfaction\n",
      "##### A simple satisfaction score\n",
      "**JSON** \n",
      " \n",
      "        {\n",
      "            \"questions\": [\n",
      "                \"How satisfied were you with your performance?\",\n",
      "                \"How satisfied were you with the interface?\"\n",
      "            ]\n",
      "        }\n",
      "        \n",
      "* Total entries: 2\n",
      "\n",
      "----------------------------------------\n",
      "\n"
     ]
    }
   ],
   "source": [
    "print report.string_report(e.cursor)"
   ]
  },
  {
   "cell_type": "markdown",
   "metadata": {},
   "source": [
    "## SQL format\n",
    "There are a few basic tables in the ExperimentLog:\n",
    "\n",
    "#### Metadata\n",
    "    meta: \n",
    "        id, Unique ID\n",
    "        mtype,    Type of this metadata: one of LOG, SESSION, USER, PATH\n",
    "        name,     Name of the object, e.g. user pseudonyn\n",
    "        type,     (Optional) type tag\n",
    "        description, (Optional) text description\n",
    "        json       (Optional) JSON string holding any other metadata.\n",
    "\n",
    "The metadata for a log, session or user, path. `mtype` specifies the kind of metadata it is. There are convenience views of this table:\n",
    "\n",
    "    log_stream\n",
    "    users\n",
    "    session_meta\n",
    "    paths\n",
    "\n",
    "All have the same fields as above.\n",
    "\n",
    "#### Session\n",
    "\n",
    "        session: \n",
    "            id,          Unique ID\n",
    "            start_time,  Time this session was started\n",
    "            end_time,    Time this session was completed (if it was)\n",
    "            last_time,   Last time a log was written for this session\n",
    "            test_run,    If this is a test run or not\n",
    "            random_seed, Random seed used for this session can be stored here\n",
    "            valid,       If this session was marked valid or not\n",
    "            complete,    If this session was marked completed or not\n",
    "            parent,      ID of the session this session is a subsession of\n",
    "            path,        ID of the full path this session belongs to\n",
    "            json,        Any additional metadata\n",
    "\n",
    "        \n",
    "       run_session: (maps sessions to runs)\n",
    "           id,           Unique ID\n",
    "           run,          ID of the run\n",
    "           session,      ID of the session\n",
    "           \n",
    "       user_session: (maps users to sessions)\n",
    "           id,           Unique ID\n",
    "           session,      ID of the session\n",
    "           user,         ID of the user\n",
    "           role,         (optional) String giving the role the user plays\n",
    "           json,         (optional) Any session-specific user variables.\n",
    "           \n",
    "#### Logs\n",
    "\n",
    "    log:\n",
    "        id,         Unique ID\n",
    "        time,       Timestamp\n",
    "        valid,      Valid flag for this data (e.g. to mark faulty sensor data)\n",
    "        stream,     ID of the stream this log belongs to\n",
    "        session,    ID of the session this log entry belongs to\n",
    "        json,       The log entry itself\n",
    "        tag,        (optional) tag for this log entry\n",
    "        \n",
    "        \n",
    "When a new log is created, it also creates a new view with the given stream name; so e.register_log(\"mouse\") creates a new view table \"mouse\" with the same fields as `log`.\n",
    "\n",
    "### Misc\n",
    "\n",
    "    children: (maps sessions to all of their children sessions)\n",
    "        id,     Unique ID\n",
    "        parent, ID of the parent session\n",
    "        child,  ID of the child session\n",
    "\n",
    "This is automatically filled in by `enter_session()`/`leave_session()`\n",
    "       \n",
    "    setup:\n",
    "        id,      Unique ID\n",
    "        time,    Time of the stage change\n",
    "        stage,   Stage of the database\n",
    "\n",
    "This is normally only used to record whether the database is fully setup or not.\n",
    "\n"
   ]
  },
  {
   "cell_type": "code",
   "execution_count": null,
   "metadata": {
    "collapsed": true
   },
   "outputs": [],
   "source": []
  }
 ],
 "metadata": {
  "kernelspec": {
   "display_name": "Python 2",
   "language": "python",
   "name": "python2"
  },
  "language_info": {
   "codemirror_mode": {
    "name": "ipython",
    "version": 2
   },
   "file_extension": ".py",
   "mimetype": "text/x-python",
   "name": "python",
   "nbconvert_exporter": "python",
   "pygments_lexer": "ipython2",
   "version": "2.7.11"
  }
 },
 "nbformat": 4,
 "nbformat_minor": 0
}
