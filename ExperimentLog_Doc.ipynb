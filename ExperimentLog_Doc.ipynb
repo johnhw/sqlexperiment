{
 "cells": [
  {
   "cell_type": "markdown",
   "metadata": {},
   "source": [
    "## Experiment logger\n",
    "The logger stores experimental data in a single SQLite database. It is intended to be fast and lightweight, but record all necessary meta data and timestamps for experimental trials.\n",
    "\n",
    "Most of the entries are stored as JSON strings in the database tables; any object that can be serialised by Python's `json` module can be added directly.\n",
    "\n",
    "### Connecting to the database"
   ]
  },
  {
   "cell_type": "code",
   "execution_count": 27,
   "metadata": {
    "collapsed": false
   },
   "outputs": [],
   "source": [
    "from experimentlog import ExperimentLog, np_to_str, str_to_np\n",
    "import numpy as np\n",
    "## open a connection to a database; will be created if it does not exist.\n",
    "# here we use a memory database so the results are not stored to disk\n",
    "e = ExperimentLog(\":memory:\")"
   ]
  },
  {
   "cell_type": "markdown",
   "metadata": {},
   "source": [
    "### Setting up the database\n",
    "When a log is set up for the first time, the database needs to be configured for the experimental sessions. \n",
    "\n",
    "Each sensor/information **stream** needs to be registered with the database. This could be individual sensors like a mouse (x,y) time series, or questionnaire results.\n",
    "Every entry in the log stream maintains the time, tag and a \"valid\" flag for each entry, plus the JSON representing the data logged."
   ]
  },
  {
   "cell_type": "code",
   "execution_count": 28,
   "metadata": {
    "collapsed": false
   },
   "outputs": [],
   "source": [
    "# check if we've already set everything up\n",
    "if e.get_stage()==\"init\":\n",
    "    \n",
    "    # the mouse time series, \n",
    "    e.register_stream(name=\"mouse\", description=\"A time series of x,y cursor positions\",\n",
    "                   # the data is optional, and can contain anything you want \n",
    "                  data={\n",
    "                    \"sample_rate\": 60,\n",
    "                    \"dpi\": 3000,\n",
    "                    \"mouse_device\":\"Logitech MX600\"})\n",
    "    \n",
    "    # a matrix of some kind\n",
    "    e.register_stream(name=\"important_matrix\", description=\"A matrix\")\n",
    "    \n",
    "    # and a post-condition questionnaire\n",
    "    e.register_stream(name=\"satisfaction\", \n",
    "                   description=\"A simple satisfaction score\",\n",
    "                   # here, we store the questions used for future reference\n",
    "                  data={\n",
    "                    \"questions\":[\"How satisfied were you with your performance?\",\n",
    "                                \"How satisfied were you with the interface?\"]}\n",
    "                    )\n"
   ]
  },
  {
   "cell_type": "markdown",
   "metadata": {},
   "source": [
    "## Sessions\n",
    "**ExperimentLog** uses the concept of *sessions* to manage experimental data. Sessions are much like folders in a filesystem and usually form a hierarchy, for example:\n",
    "    \n",
    "    /\n",
    "        Experiment1/\n",
    "            ConditionA/\n",
    "                Rep1/\n",
    "                Rep2/\n",
    "                Rep3/\n",
    "            ConditionB/\n",
    "                Rep1/\n",
    "                Rep2/\n",
    "                Rep3/\n",
    "                \n",
    "        Experiment 2\n",
    "            ConditionA/\n",
    "                Rep1/\n",
    "                Rep2/\n",
    "                Rep3/\n",
    "                Rep4/\n",
    "            ConditionC/\n",
    "                Rep1/\n",
    "                Rep2/\n",
    "                Rep3/\n",
    "                Rep4/\n",
    "    "
   ]
  },
  {
   "cell_type": "markdown",
   "metadata": {},
   "source": [
    "Each *session* type has **metadata** attached to it; for example giving the parameters for a given condition. \n",
    "\n",
    "When an experiment is run, **instances** of sessions are created, like files inside the filesystem."
   ]
  },
  {
   "cell_type": "code",
   "execution_count": 29,
   "metadata": {
    "collapsed": false
   },
   "outputs": [],
   "source": [
    "if e.get_stage()==\"init\":\n",
    "    # We'll register an experiment, with three different conditions\n",
    "    e.register_session(\"Experiment\", description=\"The main experiment\", \n",
    "                           data={\"target_size\":40.0, \"cursor_size\":5.0})\n",
    "    e.register_session(\"ConditionA\",description=\"Condition A:circular targets\", \n",
    "                           data={\"targets\":[\"circle\"]})\n",
    "    e.register_session(\"ConditionB\", description=\"Condition B:square targets\", \n",
    "                           data={\"targets\":[\"square\"]})\n",
    "    e.register_session(\"ConditionC\", description=\"Condition C:mixed targets\", \n",
    "                           data={\"targets\":[\"circle\",\"mixed\"]})\n"
   ]
  },
  {
   "cell_type": "markdown",
   "metadata": {},
   "source": [
    "We'd usually only want to do this once-ever; this setup procedure can be recorded by changing the database **stage**:"
   ]
  },
  {
   "cell_type": "code",
   "execution_count": 30,
   "metadata": {
    "collapsed": true
   },
   "outputs": [],
   "source": [
    "# mark the database as ready to log data\n",
    "e.set_stage(\"setup\")"
   ]
  },
  {
   "cell_type": "markdown",
   "metadata": {},
   "source": [
    "## Users\n",
    "Each instance of a session (usually) involves experimental subjects. Each user should be registered, and then attached to a recording session. Multiple users can be attached to one session (e.g. for experiments with groups) but normally there will just be one user.\n",
    "\n",
    "The `pseudo` module can generate pronounceable, random, verifiable pseudonyms for subjects.\n"
   ]
  },
  {
   "cell_type": "code",
   "execution_count": 31,
   "metadata": {
    "collapsed": false
   },
   "outputs": [
    {
     "name": "stdout",
     "output_type": "stream",
     "text": [
      "RACAN-UNATA\n"
     ]
    }
   ],
   "source": [
    "import pseudo\n",
    "user = pseudo.get_pseudo()\n",
    "print user"
   ]
  },
  {
   "cell_type": "code",
   "execution_count": 32,
   "metadata": {
    "collapsed": false
   },
   "outputs": [
    {
     "data": {
      "text/plain": [
       "'RACAN-UNATA'"
      ]
     },
     "execution_count": 32,
     "metadata": {},
     "output_type": "execute_result"
    }
   ],
   "source": [
    "# now register the user with the database\n",
    "e.register_user(name=user, user_vars={\"age\":30, \"leftright\":\"right\"})\n"
   ]
  },
  {
   "cell_type": "markdown",
   "metadata": {},
   "source": [
    "## Runs\n",
    "Finally, each **run** of the experimental session is logged. If there are any variables that change on a per-run basis (e.g. calibration parameters) they can be stored here.\n",
    "\n",
    "The experimenter running this trial should be specified for each run."
   ]
  },
  {
   "cell_type": "code",
   "execution_count": 33,
   "metadata": {
    "collapsed": true
   },
   "outputs": [],
   "source": [
    "e.start_run(experimenter=\"JHW\")"
   ]
  },
  {
   "cell_type": "code",
   "execution_count": 34,
   "metadata": {
    "collapsed": false
   },
   "outputs": [],
   "source": [
    "# attach the user to this experimental run\n",
    "e.add_active_user(user)\n",
    "# enter conditionA of experiment\n",
    "e.enter_session(\"Experiment\")\n",
    "e.enter_session(\"ConditionA\")\n",
    "e.enter_session() # Unnammed sessions are assumed to repetitions"
   ]
  },
  {
   "cell_type": "code",
   "execution_count": 35,
   "metadata": {
    "collapsed": false
   },
   "outputs": [
    {
     "name": "stdout",
     "output_type": "stream",
     "text": [
      "/Experiment/ConditionA/None\n"
     ]
    },
    {
     "data": {
      "text/plain": [
       "1"
      ]
     },
     "execution_count": 35,
     "metadata": {},
     "output_type": "execute_result"
    }
   ],
   "source": [
    "print e.session_path\n"
   ]
  },
  {
   "cell_type": "code",
   "execution_count": 36,
   "metadata": {
    "collapsed": false
   },
   "outputs": [
    {
     "data": {
      "text/plain": [
       "2"
      ]
     },
     "execution_count": 36,
     "metadata": {},
     "output_type": "execute_result"
    }
   ],
   "source": [
    "# log some data\n",
    "e.log(\"mouse\", data={\"x\":0, \"y\":10})\n",
    "e.log(\"mouse\", data={\"x\":0, \"y\":20})"
   ]
  },
  {
   "cell_type": "markdown",
   "metadata": {},
   "source": [
    "Test how fast we can write into the database:"
   ]
  },
  {
   "cell_type": "code",
   "execution_count": 37,
   "metadata": {
    "collapsed": false
   },
   "outputs": [
    {
     "name": "stdout",
     "output_type": "stream",
     "text": [
      "50000 loops, best of 3: 13.5 µs per loop\n"
     ]
    }
   ],
   "source": [
    "%%timeit -n 50000\n",
    "e.log(\"mouse\", data={\"x\":20, \"y\":20})"
   ]
  },
  {
   "cell_type": "code",
   "execution_count": 38,
   "metadata": {
    "collapsed": false
   },
   "outputs": [
    {
     "data": {
      "text/plain": [
       "150003"
      ]
     },
     "execution_count": 38,
     "metadata": {},
     "output_type": "execute_result"
    }
   ],
   "source": [
    "# log questionnaire output\n",
    "e.log(\"satisfaction\", data={\"q1\":4,\"q2\":5})"
   ]
  },
  {
   "cell_type": "code",
   "execution_count": 39,
   "metadata": {
    "collapsed": false
   },
   "outputs": [],
   "source": [
    "# leave this repetition\n",
    "e.leave_session() \n",
    "\n",
    "# move out of condition A\n",
    "e.leave_session()"
   ]
  },
  {
   "cell_type": "code",
   "execution_count": 40,
   "metadata": {
    "collapsed": true
   },
   "outputs": [],
   "source": [
    "e.enter_session(\"ConditionB\")"
   ]
  },
  {
   "cell_type": "code",
   "execution_count": 41,
   "metadata": {
    "collapsed": true
   },
   "outputs": [],
   "source": [
    "# could log more stuff..."
   ]
  },
  {
   "cell_type": "code",
   "execution_count": 42,
   "metadata": {
    "collapsed": false
   },
   "outputs": [],
   "source": [
    "x = np.random.uniform(-1,1,(16,16))\n",
    "i = e.log(\"important_matrix\")\n",
    "# if we need to attach binary data to a log file (e.g. an image), we can do this:\n",
    "# in general, it is best to avoid using blobs unless absolutely necessary\n",
    "e.attach_blob(i, np_to_str({\"matrix\":(x)}))"
   ]
  },
  {
   "cell_type": "code",
   "execution_count": 43,
   "metadata": {
    "collapsed": true
   },
   "outputs": [],
   "source": [
    "e.leave_session()\n",
    "e.leave_session()\n",
    "# back to the root"
   ]
  },
  {
   "cell_type": "code",
   "execution_count": 44,
   "metadata": {
    "collapsed": true
   },
   "outputs": [],
   "source": [
    "e.end_run() # end the run"
   ]
  },
  {
   "cell_type": "code",
   "execution_count": 45,
   "metadata": {
    "collapsed": false
   },
   "outputs": [
    {
     "name": "stdout",
     "output_type": "stream",
     "text": [
      "1454934544.76\n",
      "{\"y\": 10, \"x\": 0}\n"
     ]
    }
   ],
   "source": [
    "# print some results with raw SQL queries\n",
    "mouse_log = e.cursor.execute(\"SELECT time, json FROM mouse\", ())\n",
    "print \"\\n\".join([str(m) for m in mouse_log.fetchone()])"
   ]
  },
  {
   "cell_type": "code",
   "execution_count": 46,
   "metadata": {
    "collapsed": true
   },
   "outputs": [],
   "source": [
    "import report"
   ]
  },
  {
   "cell_type": "code",
   "execution_count": 47,
   "metadata": {
    "collapsed": false
   },
   "outputs": [
    {
     "name": "stdout",
     "output_type": "stream",
     "text": [
      "# Report generated for none\n",
      "\n",
      "----------------------------------------\n",
      "#### Report date: Mon Feb 08 12:29:07 2016\n",
      "\n",
      "----------------------------------------\n",
      "\n",
      "## Runs\n",
      "* Number of runs: 1\n",
      "* Total duration recorded: 2.2 seconds\n",
      "* Dirty exits: 0\n",
      "\n",
      "----------------------------------------\n",
      "\n",
      "## Sessions\n",
      "\n",
      "#### /Experiment\n",
      "* Runs: 1\n",
      "* Duration recorded: 2.19400000572 seconds\n",
      "\n",
      "#### /Experiment/ConditionA\n",
      "* Runs: 1\n",
      "* Duration recorded: 2.12700009346 seconds\n",
      "\n",
      "#### /Experiment/ConditionA/None\n",
      "* Runs: 1\n",
      "* Duration recorded: 2.125 seconds\n",
      "\n",
      "#### /Experiment/ConditionB\n",
      "* Runs: 1\n",
      "* Duration recorded: 0.050999879837 seconds\n",
      "\n",
      "----------------------------------------\n",
      "\n",
      "## Users\n",
      "* Unique users: 1\n",
      "\n",
      "\n",
      "#### RACAN-UNATA\n",
      "**JSON** \n",
      " \n",
      "        {\n",
      "            \"age\": 30,\n",
      "            \"leftright\": \"right\"\n",
      "        }\n",
      "        \n",
      "Duration recorded: 6.49699997902 seconds\n",
      "Paths recorded:\n",
      "\t/Experiment\n",
      "\t/Experiment/ConditionA\n",
      "\t/Experiment/ConditionA/None\n",
      "\t/Experiment/ConditionB\n",
      "----------------------------------------\n",
      "\n",
      "## Log\n",
      "* Log streams recorded: mouse,important_matrix,satisfaction\n",
      "\n",
      "#### mouse\n",
      "##### A time series of x,y cursor positions\n",
      "**JSON** \n",
      " \n",
      "        {\n",
      "            \"dpi\": 3000,\n",
      "            \"mouse_device\": \"Logitech MX600\",\n",
      "            \"sample_rate\": 60\n",
      "        }\n",
      "        \n",
      "* Total entries: 150002\n",
      "\n",
      "#### important_matrix\n",
      "##### A matrix\n",
      "**JSON** \n",
      " \n",
      "        null\n",
      "        \n",
      "* Total entries: 1\n",
      "\n",
      "#### satisfaction\n",
      "##### A simple satisfaction score\n",
      "**JSON** \n",
      " \n",
      "        {\n",
      "            \"questions\": [\n",
      "                \"How satisfied were you with your performance?\",\n",
      "                \"How satisfied were you with the interface?\"\n",
      "            ]\n",
      "        }\n",
      "        \n",
      "* Total entries: 1\n",
      "\n",
      "----------------------------------------\n",
      "\n"
     ]
    }
   ],
   "source": [
    "print report.string_report(e.cursor)"
   ]
  },
  {
   "cell_type": "markdown",
   "metadata": {},
   "source": [
    "### Post-processing\n",
    "Once all data is logged, it is wise to add indices so that logs can be accessed quickly."
   ]
  },
  {
   "cell_type": "code",
   "execution_count": 48,
   "metadata": {
    "collapsed": false
   },
   "outputs": [],
   "source": [
    "# should only do this when all data is logged; otherwise there may be\n",
    "# a performance penalty\n",
    "e.add_indices()"
   ]
  },
  {
   "cell_type": "markdown",
   "metadata": {},
   "source": [
    "## SQL format\n",
    "There are a few basic tables in the ExperimentLog:\n",
    "\n",
    "#### Metadata\n",
    "    meta: \n",
    "        id, Unique ID\n",
    "        mtype,    Type of this metadata: one of LOG, SESSION, USER, PATH\n",
    "        name,     Name of the object, e.g. user pseudonyn\n",
    "        type,     (Optional) type tag\n",
    "        description, (Optional) text description\n",
    "        json       (Optional) JSON string holding any other metadata.\n",
    "\n",
    "The metadata for a log, session or user, path. `mtype` specifies the kind of metadata it is. There are convenience views of this table:\n",
    "\n",
    "    log_stream\n",
    "    users\n",
    "    session_meta\n",
    "    paths\n",
    "\n",
    "All have the same fields as above.\n",
    "\n",
    "#### Session\n",
    "\n",
    "        session: \n",
    "            id,          Unique ID\n",
    "            start_time,  Time this session was started\n",
    "            end_time,    Time this session was completed (if it was)\n",
    "            last_time,   Last time a log was written for this session\n",
    "            test_run,    If this is a test run or not\n",
    "            random_seed, Random seed used for this session can be stored here\n",
    "            valid,       If this session was marked valid or not\n",
    "            complete,    If this session was marked completed or not\n",
    "            parent,      ID of the session this session is a subsession of\n",
    "            path,        ID of the full path this session belongs to\n",
    "            json,        Any additional metadata\n",
    "\n",
    "        \n",
    "       run_session: (maps sessions to runs)\n",
    "           id,           Unique ID\n",
    "           run,          ID of the run\n",
    "           session,      ID of the session\n",
    "           \n",
    "       user_session: (maps users to sessions)\n",
    "           id,           Unique ID\n",
    "           session,      ID of the session\n",
    "           user,         ID of the user\n",
    "           role,         (optional) String giving the role the user plays\n",
    "           json,         (optional) Any session-specific user variables.\n",
    "           \n",
    "#### Logs\n",
    "\n",
    "    log:\n",
    "        id,         Unique ID\n",
    "        time,       Timestamp\n",
    "        valid,      Valid flag for this data (e.g. to mark faulty sensor data)\n",
    "        stream,     ID of the stream this log belongs to\n",
    "        session,    ID of the session this log entry belongs to\n",
    "        json,       The log entry itself        \n",
    "        tag,        (optional) tag for this log entry\n",
    "        \n",
    "        \n",
    "When a new log is created, it also creates a new view with the given stream name; so `e.register_log(\"mouse\")` creates a new view table `mouse` with the same fields as `log`.\n",
    "\n",
    "\n",
    "    blob:\n",
    "        id,         Unique ID\n",
    "        blob,       Binary blob \n",
    "        log,        Log this blob attaches to\n",
    "        \n",
    "\n",
    "### Misc\n",
    "\n",
    "    children: (maps sessions to all of their children sessions)\n",
    "        id,     Unique ID\n",
    "        parent, ID of the parent session\n",
    "        child,  ID of the child session\n",
    "\n",
    "This is automatically filled in by `enter_session()`/`leave_session()`\n",
    "       \n",
    "    setup:\n",
    "        id,      Unique ID\n",
    "        time,    Time of the stage change\n",
    "        stage,   Stage of the database\n",
    "\n",
    "This is normally only used to record whether the database is fully setup or not.\n",
    "\n"
   ]
  },
  {
   "cell_type": "markdown",
   "metadata": {},
   "source": [
    "### Custom tables\n",
    "If you want to log values with a **custom** table where the fields are not just plain JSON, you can add a new table to the database and just attach it to the log fields. The `log()` function returns the ID of the new log entry; use this as a foreign key in the new log table.\n",
    "\n",
    "Example:\n",
    "\n",
    "\n"
   ]
  },
  {
   "cell_type": "code",
   "execution_count": 49,
   "metadata": {
    "collapsed": false,
    "scrolled": true
   },
   "outputs": [],
   "source": [
    "# make the new table -- must have a reference to the main\n",
    "# log table\n",
    "e.execute(\"\"\"CREATE TABLE accelerometer \n",
    "          (id INTEGER PRIMARY KEY, device INT, x REAL, y REAL, z REAL, log INT,\n",
    "          FOREIGN KEY(log) REFERENCES log(id))\n",
    "          \"\"\")\n",
    "\n",
    "# register a new stream\n",
    "e.register_stream(name=\"acc\", description=\"A time series of accelerometer values\")\n",
    "\n",
    "# now log a new value, put it into the separate accelerometer table and link\n",
    "# it to the main log\n",
    "def log_acc(dev,x,y,z):\n",
    "    log_id = e.log(\"acc\")\n",
    "    e.execute(\"INSERT INTO accelerometer VALUES (?,?,?,?,?)\", \n",
    "              (dev, x, y, z, log_id))\n"
   ]
  },
  {
   "cell_type": "code",
   "execution_count": null,
   "metadata": {
    "collapsed": true
   },
   "outputs": [],
   "source": []
  }
 ],
 "metadata": {
  "kernelspec": {
   "display_name": "Python 2",
   "language": "python",
   "name": "python2"
  },
  "language_info": {
   "codemirror_mode": {
    "name": "ipython",
    "version": 2
   },
   "file_extension": ".py",
   "mimetype": "text/x-python",
   "name": "python",
   "nbconvert_exporter": "python",
   "pygments_lexer": "ipython2",
   "version": "2.7.11"
  }
 },
 "nbformat": 4,
 "nbformat_minor": 0
}
