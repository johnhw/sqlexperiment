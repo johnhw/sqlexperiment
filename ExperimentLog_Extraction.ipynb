{
 "cells": [
  {
   "cell_type": "code",
   "execution_count": 71,
   "metadata": {
    "collapsed": false
   },
   "outputs": [
    {
     "name": "stderr",
     "output_type": "stream",
     "text": [
      "DEBUG:root:Opening database ':memory:'. Autocommit: 'None'\n",
      "DEBUG:root:Creating tables.\n",
      "DEBUG:root:Resuming from session 1 '/'\n",
      "DEBUG:root:Run ID: [00000001]\n",
      "DEBUG:root:Run config logged as '{}'\n",
      "DEBUG:root:<Commit>\n",
      "DEBUG:root:Registering 'GILAV-UTUKI' of type 'USER', with data [{\"age\": 30, \"leftright\": \"right\"}]\n",
      "DEBUG:root:CD'ing to /Experiment/Condition1/\n",
      "DEBUG:root:Parent session /\n",
      "DEBUG:root:Entering session '/Experiment/'\n",
      "DEBUG:root:New session ID [00000002]\n",
      "DEBUG:root:<Commit>\n",
      "DEBUG:root:Parent session /Experiment/\n",
      "DEBUG:root:Entering session '/Experiment/Condition1/'\n",
      "DEBUG:root:New session ID [00000003]\n",
      "DEBUG:root:<Commit>\n",
      "DEBUG:root:CD'd to /Experiment/Condition1/\n",
      "DEBUG:root:Binding meta table USER:GILAV-UTUKI to /Experiment/Condition1/\n",
      "WARNING:root:No stream mouse registered; creating a new blank entry\n",
      "02-16 16:30 [WARNI]  No stream mouse registered; creating a new blank entry\n",
      "DEBUG:root:Registering 'mouse' of type 'STREAM', with data [null]\n",
      "DEBUG:root:CD'ing to /Experiment/Condition2/\n",
      "DEBUG:root:Leaving session '/Experiment/Condition1/'\n",
      "DEBUG:root:<Commit>\n",
      "DEBUG:root:Parent session /Experiment/\n",
      "DEBUG:root:Entering session '/Experiment/Condition2/'\n",
      "DEBUG:root:New session ID [00000004]\n",
      "DEBUG:root:<Commit>\n",
      "DEBUG:root:CD'd to /Experiment/Condition2/\n",
      "DEBUG:root:Binding meta table USER:GILAV-UTUKI to /Experiment/Condition2/\n",
      "DEBUG:root:Leaving session '/Experiment/Condition2/'\n",
      "DEBUG:root:<Commit>\n",
      "DEBUG:root:Parent session /Experiment/\n",
      "DEBUG:root:Entering session '/Experiment/Condition2/'\n",
      "DEBUG:root:New session ID [00000005]\n",
      "DEBUG:root:<Commit>\n",
      "DEBUG:root:Parent session /Experiment/Condition2/\n",
      "DEBUG:root:Entering session '/Experiment/Condition2/SubconditionA/'\n",
      "DEBUG:root:New session ID [00000006]\n",
      "DEBUG:root:<Commit>\n",
      "DEBUG:root:Marking end of run [00000001].\n"
     ]
    }
   ],
   "source": [
    "from experimentlog import ExperimentLog\n",
    "import extract\n",
    "import pseudo\n",
    "import pandas as pd\n",
    "# log some JSON data\n",
    "e = ExperimentLog(\":memory:\", ntp_sync=False)\n",
    "# now register the user with the database\n",
    "user = pseudo.get_pseudo()\n",
    "e.create(\"USER\", name=user, data={\"age\":30, \"leftright\":\"right\"})\n",
    "e.cd(\"/Experiment/Condition1\")\n",
    "e.bind(\"USER\",user)\n",
    "e.log(\"mouse\", data={\"x\":0, \"y\":0})\n",
    "e.log(\"mouse\", data={\"x\":0, \"y\":1})\n",
    "e.log(\"mouse\", data={\"x\":0, \"y\":2})\n",
    "e.cd(\"/Experiment/Condition2\")\n",
    "e.bind(\"USER\",user)\n",
    "e.log(\"mouse\", data={\"x\":0, \"y\":0})\n",
    "e.log(\"mouse\", data={\"x\":0, \"y\":1})\n",
    "e.log(\"mouse\", data={\"x\":0})\n",
    "e.leave()\n",
    "e.enter('Condition2')\n",
    "e.log(\"mouse\", data={\"x\":0, \"y\":0})\n",
    "e.log(\"mouse\", data={\"x\":0, \"y\":1})\n",
    "e.log(\"mouse\", data={\"x\":0}, valid=0)\n",
    "e.enter('SubconditionA')\n",
    "e.end()\n"
   ]
  },
  {
   "cell_type": "code",
   "execution_count": 72,
   "metadata": {
    "collapsed": false
   },
   "outputs": [
    {
     "name": "stdout",
     "output_type": "stream",
     "text": [
      "{u'PATH':   bound  data description                                   name  type\n",
      "0    []  None        None                           /Experiment/  None\n",
      "1    []  None        None                /Experiment/Condition1/  None\n",
      "2    []  None        None                /Experiment/Condition2/  None\n",
      "3    []  None        None  /Experiment/Condition2/SubconditionA/  None, u'USER':     bound                                  data description         name type\n",
      "0  [3, 4]  {u'age': 30, u'leftright': u'right'}              GILAV-UTUKI     , u'STREAM':   bound  data description   name  type\n",
      "0    []  None              mouse  AUTO, u'DATASET':   bound                 data description  name  type\n",
      "0    []  {u'stage': u'init'}        None  None  None}\n"
     ]
    }
   ],
   "source": [
    "meta, bound_ix = extract.meta(e.cursor)\n",
    "print extract.meta_dataframe(e.cursor)"
   ]
  },
  {
   "cell_type": "code",
   "execution_count": 73,
   "metadata": {
    "collapsed": false
   },
   "outputs": [
    {
     "name": "stdout",
     "output_type": "stream",
     "text": [
      "{u'mouse':    session             t  x   y                     path  valid\n",
      "0        3  1.455640e+09  0   0  /Experiment/Condition1/      1\n",
      "1        3  1.455640e+09  0   1  /Experiment/Condition1/      1\n",
      "2        3  1.455640e+09  0   2  /Experiment/Condition1/      1\n",
      "3        4  1.455640e+09  0   0  /Experiment/Condition2/      1\n",
      "4        4  1.455640e+09  0   1  /Experiment/Condition2/      1\n",
      "5        4  1.455640e+09  0 NaN  /Experiment/Condition2/      1\n",
      "6        5  1.455640e+09  0   0  /Experiment/Condition2/      1\n",
      "7        5  1.455640e+09  0   1  /Experiment/Condition2/      1\n",
      "8        5  1.455640e+09  0 NaN  /Experiment/Condition2/      0}\n"
     ]
    }
   ],
   "source": [
    "print extract.dump_flat_dataframe(e.cursor)"
   ]
  },
  {
   "cell_type": "code",
   "execution_count": 74,
   "metadata": {
    "collapsed": false
   },
   "outputs": [
    {
     "name": "stdout",
     "output_type": "stream",
     "text": [
      "defaultdict(<type 'list'>, {(u'/Experiment/Condition2/SubconditionA/',): [{}], (u'/Experiment/Condition1/',): [{u'mouse':    y  x  valid             t\n",
      "0  0  0      1  1.455640e+09\n",
      "1  1  0      1  1.455640e+09\n",
      "2  2  0      1  1.455640e+09}], (u'/',): [{}], (u'/Experiment/',): [{}], (u'/Experiment/Condition2/',): [{u'mouse':     y  x  valid             t\n",
      "0   0  0      1  1.455640e+09\n",
      "1   1  0      1  1.455640e+09\n",
      "2 NaN  0      1  1.455640e+09}, {u'mouse':     y  x  valid             t\n",
      "0   0  0      1  1.455640e+09\n",
      "1   1  0      1  1.455640e+09\n",
      "2 NaN  0      0  1.455640e+09}]})\n"
     ]
    }
   ],
   "source": [
    "print extract.dump_dataframe(e.cursor)"
   ]
  },
  {
   "cell_type": "code",
   "execution_count": null,
   "metadata": {
    "collapsed": true
   },
   "outputs": [],
   "source": []
  },
  {
   "cell_type": "code",
   "execution_count": 75,
   "metadata": {
    "collapsed": false
   },
   "outputs": [
    {
     "name": "stdout",
     "output_type": "stream",
     "text": [
      "defaultdict(<type 'list'>, {1: [2, 3, 4, 5, 6], 2: [3, 4, 5, 6], 5: [6]})\n",
      "/                                                 \tLogs:1\n",
      "/Experiment/                                      \tLogs:1\n",
      "/Experiment/Condition1/                           \tLogs:1\n",
      "/Experiment/Condition2/                           \tLogs:2\n",
      "/Experiment/Condition2/SubconditionA/             \tLogs:1\n"
     ]
    }
   ],
   "source": [
    "from collections import defaultdict\n",
    "def session_tree(cursor):\n",
    "    tree = defaultdict(list)\n",
    "    parents = cursor.execute(\"SELECT id,parent FROM session\").fetchall()\n",
    "    for child, parent in parents:\n",
    "        tree[parent].append(child)\n",
    "    return tree\n",
    "\n",
    "def expand_session(cursor):    \n",
    "    full_tree = defaultdict(list)\n",
    "    sessions = cursor.execute(\"SELECT id FROM session\").fetchall()\n",
    "    for session in sessions:\n",
    "        s = session[0]\n",
    "        orig = s\n",
    "        parent = cursor.execute(\"SELECT parent FROM session WHERE id=?\", (s,)).fetchone()[0]\n",
    "        while parent!=None:\n",
    "            full_tree[parent].append(orig)\n",
    "            s = parent\n",
    "            parent = cursor.execute(\"SELECT parent FROM session WHERE id=?\", (s,)).fetchone()[0]\n",
    "    return full_tree\n",
    "\n",
    "def children(tree, node=None):\n",
    "    ch = tree.get(node,[])    \n",
    "    return ch + [children(tree, c) for c in ch if children(tree, c)!=[]]\n",
    "\n",
    "def paths(cursor):\n",
    "    paths = cursor.execute(\"SELECT path, count(id) FROM session GROUP BY path ORDER BY path\").fetchall()    \n",
    "    return paths\n",
    "    \n",
    "tree = session_tree(e.cursor)\n",
    "print expand_session(e.cursor)\n",
    "#print children(tree)\n",
    "print \"\\n\".join([\"%-50s\\tLogs:%d\" % p for p in paths(e.cursor)])"
   ]
  },
  {
   "cell_type": "code",
   "execution_count": null,
   "metadata": {
    "collapsed": true
   },
   "outputs": [],
   "source": []
  },
  {
   "cell_type": "code",
   "execution_count": null,
   "metadata": {
    "collapsed": true
   },
   "outputs": [],
   "source": []
  }
 ],
 "metadata": {
  "kernelspec": {
   "display_name": "Python 2",
   "language": "python",
   "name": "python2"
  },
  "language_info": {
   "codemirror_mode": {
    "name": "ipython",
    "version": 2
   },
   "file_extension": ".py",
   "mimetype": "text/x-python",
   "name": "python",
   "nbconvert_exporter": "python",
   "pygments_lexer": "ipython2",
   "version": "2.7.11"
  }
 },
 "nbformat": 4,
 "nbformat_minor": 0
}
