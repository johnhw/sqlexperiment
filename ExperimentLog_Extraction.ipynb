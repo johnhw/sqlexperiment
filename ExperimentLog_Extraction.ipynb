{
 "cells": [
  {
   "cell_type": "code",
   "execution_count": 1,
   "metadata": {
    "collapsed": false
   },
   "outputs": [
    {
     "name": "stderr",
     "output_type": "stream",
     "text": [
      "DEBUG:root:Opening database ':memory:'. Autocommit: 'None'\n",
      "DEBUG:root:Creating tables.\n",
      "DEBUG:root:Resuming from session 1 '/'\n",
      "DEBUG:root:Run ID: [00000001]\n",
      "DEBUG:root:Run config logged as '{}'\n",
      "DEBUG:root:<Commit>\n",
      "DEBUG:root:Registering 'KESOW-IBOSA' of type 'USER', with data [{\"age\": 30, \"leftright\": \"right\"}]\n",
      "DEBUG:root:CD'ing to /Experiment/Condition1/\n",
      "DEBUG:root:Parent session /\n",
      "DEBUG:root:Entering session '/Experiment/'\n",
      "DEBUG:root:New session ID [00000002]\n",
      "DEBUG:root:<Commit>\n",
      "DEBUG:root:Parent session /Experiment/\n",
      "DEBUG:root:Entering session '/Experiment/Condition1/'\n",
      "DEBUG:root:New session ID [00000003]\n",
      "DEBUG:root:<Commit>\n",
      "DEBUG:root:CD'd to /Experiment/Condition1/\n",
      "DEBUG:root:Binding meta table USER:KESOW-IBOSA to /Experiment/Condition1/\n",
      "WARNING:root:No stream mouse registered; creating a new blank entry\n",
      "02-16 17:05 [WARNI]  No stream mouse registered; creating a new blank entry\n",
      "DEBUG:root:Registering 'mouse' of type 'STREAM', with data [null]\n",
      "DEBUG:root:CD'ing to /Experiment/Condition2/\n",
      "DEBUG:root:Leaving session '/Experiment/Condition1/'\n",
      "DEBUG:root:<Commit>\n",
      "DEBUG:root:Parent session /Experiment/\n",
      "DEBUG:root:Entering session '/Experiment/Condition2/'\n",
      "DEBUG:root:New session ID [00000004]\n",
      "DEBUG:root:<Commit>\n",
      "DEBUG:root:CD'd to /Experiment/Condition2/\n",
      "DEBUG:root:Binding meta table USER:KESOW-IBOSA to /Experiment/Condition2/\n",
      "DEBUG:root:Leaving session '/Experiment/Condition2/'\n",
      "DEBUG:root:<Commit>\n",
      "DEBUG:root:Parent session /Experiment/\n",
      "DEBUG:root:Entering session '/Experiment/Condition2/'\n",
      "DEBUG:root:New session ID [00000005]\n",
      "DEBUG:root:<Commit>\n",
      "DEBUG:root:Parent session /Experiment/Condition2/\n",
      "DEBUG:root:Entering session '/Experiment/Condition2/SubconditionA/'\n",
      "DEBUG:root:New session ID [00000006]\n",
      "DEBUG:root:<Commit>\n",
      "DEBUG:root:CD'ing to /Experiment/Condition1/\n",
      "DEBUG:root:Leaving session '/Experiment/Condition2/SubconditionA/'\n",
      "DEBUG:root:<Commit>\n",
      "DEBUG:root:Leaving session '/Experiment/Condition2/'\n",
      "DEBUG:root:<Commit>\n",
      "DEBUG:root:Parent session /Experiment/\n",
      "DEBUG:root:Entering session '/Experiment/Condition1/'\n",
      "DEBUG:root:New session ID [00000007]\n",
      "DEBUG:root:<Commit>\n",
      "DEBUG:root:CD'd to /Experiment/Condition1/\n",
      "DEBUG:root:Binding meta table USER:KESOW-IBOSA to /Experiment/Condition1/\n",
      "DEBUG:root:CD'ing to /Experiment/Condition2/\n",
      "DEBUG:root:Leaving session '/Experiment/Condition1/'\n",
      "DEBUG:root:<Commit>\n",
      "DEBUG:root:Parent session /Experiment/\n",
      "DEBUG:root:Entering session '/Experiment/Condition2/'\n",
      "DEBUG:root:New session ID [00000008]\n",
      "DEBUG:root:<Commit>\n",
      "DEBUG:root:CD'd to /Experiment/Condition2/\n",
      "DEBUG:root:Binding meta table USER:KESOW-IBOSA to /Experiment/Condition2/\n",
      "DEBUG:root:Leaving session '/Experiment/Condition2/'\n",
      "DEBUG:root:<Commit>\n",
      "DEBUG:root:Parent session /Experiment/\n",
      "DEBUG:root:Entering session '/Experiment/Condition2/'\n",
      "DEBUG:root:New session ID [00000009]\n",
      "DEBUG:root:<Commit>\n",
      "DEBUG:root:Parent session /Experiment/Condition2/\n",
      "DEBUG:root:Entering session '/Experiment/Condition2/SubconditionA/'\n",
      "DEBUG:root:New session ID [00000010]\n",
      "DEBUG:root:<Commit>\n",
      "DEBUG:root:Marking end of run [00000001].\n"
     ]
    }
   ],
   "source": [
    "from experimentlog import ExperimentLog\n",
    "import extract\n",
    "import pseudo\n",
    "import pandas as pd\n",
    "# log some JSON data\n",
    "e = ExperimentLog(\":memory:\", ntp_sync=False)\n",
    "# now register the user with the database\n",
    "user = pseudo.get_pseudo()\n",
    "e.create(\"USER\", name=user, data={\"age\":30, \"leftright\":\"right\"})\n",
    "e.cd(\"/Experiment/Condition1\")\n",
    "e.bind(\"USER\",user)\n",
    "e.log(\"mouse\", data={\"x\":0, \"y\":0})\n",
    "e.log(\"mouse\", data={\"x\":0, \"y\":1})\n",
    "e.log(\"mouse\", data={\"x\":0, \"y\":2})\n",
    "e.cd(\"/Experiment/Condition2\")\n",
    "e.bind(\"USER\",user)\n",
    "e.log(\"mouse\", data={\"x\":0, \"y\":0})\n",
    "e.log(\"mouse\", data={\"x\":0, \"y\":1})\n",
    "e.log(\"mouse\", data={\"x\":0})\n",
    "e.leave()\n",
    "e.enter('Condition2')\n",
    "e.log(\"mouse\", data={\"x\":0, \"y\":0})\n",
    "e.log(\"mouse\", data={\"x\":0, \"y\":1})\n",
    "e.log(\"mouse\", data={\"x\":0}, valid=0)\n",
    "e.enter('SubconditionA')\n",
    "e.cd(\"/Experiment/Condition1\")\n",
    "e.bind(\"USER\",user)\n",
    "e.log(\"mouse\", data={\"x\":0, \"y\":0})\n",
    "e.log(\"mouse\", data={\"x\":0, \"y\":1})\n",
    "e.log(\"mouse\", data={\"x\":0, \"y\":2})\n",
    "e.cd(\"/Experiment/Condition2\")\n",
    "e.bind(\"USER\",user)\n",
    "e.log(\"mouse\", data={\"x\":0, \"y\":0})\n",
    "e.log(\"mouse\", data={\"x\":0, \"y\":1})\n",
    "e.log(\"mouse\", data={\"x\":0})\n",
    "e.leave()\n",
    "e.enter('Condition2')\n",
    "e.log(\"mouse\", data={\"x\":0, \"y\":0})\n",
    "e.log(\"mouse\", data={\"x\":0, \"y\":1})\n",
    "e.log(\"mouse\", data={\"x\":0}, valid=0)\n",
    "e.enter('SubconditionA')\n",
    "e.end()\n"
   ]
  },
  {
   "cell_type": "code",
   "execution_count": 2,
   "metadata": {
    "collapsed": false
   },
   "outputs": [
    {
     "name": "stdout",
     "output_type": "stream",
     "text": [
      "{u'PATH':   bound  data description                                   name  type\n",
      "0    []  None        None                           /Experiment/  None\n",
      "1    []  None        None                /Experiment/Condition1/  None\n",
      "2    []  None        None                /Experiment/Condition2/  None\n",
      "3    []  None        None  /Experiment/Condition2/SubconditionA/  None, u'USER':           bound                                  data description  \\\n",
      "0  [3, 4, 7, 8]  {u'age': 30, u'leftright': u'right'}               \n",
      "\n",
      "          name type  \n",
      "0  KESOW-IBOSA       , u'STREAM':   bound  data description   name  type\n",
      "0    []  None              mouse  AUTO, u'DATASET':   bound                 data description  name  type\n",
      "0    []  {u'stage': u'init'}        None  None  None}\n"
     ]
    }
   ],
   "source": [
    "meta, bound_ix = extract.meta(e.cursor)\n",
    "print extract.meta_dataframe(e.cursor)"
   ]
  },
  {
   "cell_type": "code",
   "execution_count": 3,
   "metadata": {
    "collapsed": false
   },
   "outputs": [
    {
     "name": "stdout",
     "output_type": "stream",
     "text": [
      "         session             t   x          y      valid\n",
      "count  18.000000  1.800000e+01  18  14.000000  18.000000\n",
      "mean    6.000000  1.455642e+09   0   0.714286   0.888889\n",
      "std     2.222876  8.188979e-03   0   0.726273   0.323381\n",
      "min     3.000000  1.455642e+09   0   0.000000   0.000000\n",
      "25%     4.000000  1.455642e+09   0   0.000000   1.000000\n",
      "50%     6.000000  1.455642e+09   0   1.000000   1.000000\n",
      "75%     8.000000  1.455642e+09   0   1.000000   1.000000\n",
      "max     9.000000  1.455642e+09   0   2.000000   1.000000\n"
     ]
    }
   ],
   "source": [
    "df = extract.dump_flat_dataframe(e.cursor)\n",
    "print df['mouse'].describe()"
   ]
  },
  {
   "cell_type": "code",
   "execution_count": 4,
   "metadata": {
    "collapsed": false
   },
   "outputs": [
    {
     "name": "stdout",
     "output_type": "stream",
     "text": [
      "defaultdict(<type 'list'>, {(u'/Experiment/Condition2/SubconditionA/',): [{}, {}], (u'/Experiment/Condition1/',): [{u'mouse':    y  x  valid             t\n",
      "0  0  0      1  1.455642e+09\n",
      "1  1  0      1  1.455642e+09\n",
      "2  2  0      1  1.455642e+09}, {u'mouse':    y  x  valid             t\n",
      "0  0  0      1  1.455642e+09\n",
      "1  1  0      1  1.455642e+09\n",
      "2  2  0      1  1.455642e+09}], (u'/',): [{}], (u'/Experiment/',): [{}], (u'/Experiment/Condition2/',): [{u'mouse':     y  x  valid             t\n",
      "0   0  0      1  1.455642e+09\n",
      "1   1  0      1  1.455642e+09\n",
      "2 NaN  0      1  1.455642e+09}, {u'mouse':     y  x  valid             t\n",
      "0   0  0      1  1.455642e+09\n",
      "1   1  0      1  1.455642e+09\n",
      "2 NaN  0      0  1.455642e+09}, {u'mouse':     y  x  valid             t\n",
      "0   0  0      1  1.455642e+09\n",
      "1   1  0      1  1.455642e+09\n",
      "2 NaN  0      1  1.455642e+09}, {u'mouse':     y  x  valid             t\n",
      "0   0  0      1  1.455642e+09\n",
      "1   1  0      1  1.455642e+09\n",
      "2 NaN  0      0  1.455642e+09}]})\n"
     ]
    }
   ],
   "source": [
    "df = extract.dump_dataframe(e.cursor)\n",
    "print df\n"
   ]
  },
  {
   "cell_type": "code",
   "execution_count": 5,
   "metadata": {
    "collapsed": false
   },
   "outputs": [
    {
     "name": "stdout",
     "output_type": "stream",
     "text": [
      "/Experiment/                                      \tTotal logs:9\n",
      "/Experiment/Condition1/                           \tTotal logs:2\n",
      "/Experiment/Condition2/                           \tTotal logs:6\n",
      "/Experiment/Condition2/SubconditionA/             \tTotal logs:2\n"
     ]
    }
   ],
   "source": [
    "session_tree, path_tree = extract.map_children_sessions(e.cursor)\n",
    "print \"\\n\".join([\"%-50s\\tTotal logs:%d\" % (k,len(v)) for k,v in path_tree.iteritems()])"
   ]
  },
  {
   "cell_type": "code",
   "execution_count": 7,
   "metadata": {
    "collapsed": false
   },
   "outputs": [
    {
     "name": "stdout",
     "output_type": "stream",
     "text": [
      "    complete description      end_time  json     last_time  log_count  \\\n",
      "id                                                                      \n",
      "1        NaN        None           NaN  None           NaN          0   \n",
      "2          0                       NaN  None           NaN          0   \n",
      "3          1              1.455642e+09  None  1.455642e+09          3   \n",
      "4          1              1.455642e+09  None  1.455642e+09          3   \n",
      "5          1              1.455642e+09  None  1.455642e+09          3   \n",
      "6          1              1.455642e+09  None           NaN          0   \n",
      "7          1              1.455642e+09  None  1.455642e+09          3   \n",
      "8          1              1.455642e+09  None  1.455642e+09          3   \n",
      "9          0                       NaN  None  1.455642e+09          3   \n",
      "10         0                       NaN  None           NaN          0   \n",
      "\n",
      "             name  parent                                   path random_seed  \\\n",
      "id                                                                             \n",
      "1          [ROOT]     NaN                                      /        None   \n",
      "2      Experiment       1                           /Experiment/        None   \n",
      "3      Condition1       2                /Experiment/Condition1/        None   \n",
      "4      Condition2       2                /Experiment/Condition2/        None   \n",
      "5      Condition2       2                /Experiment/Condition2/        None   \n",
      "6   SubconditionA       5  /Experiment/Condition2/SubconditionA/        None   \n",
      "7      Condition1       2                /Experiment/Condition1/        None   \n",
      "8      Condition2       2                /Experiment/Condition2/        None   \n",
      "9      Condition2       2                /Experiment/Condition2/        None   \n",
      "10  SubconditionA       9  /Experiment/Condition2/SubconditionA/        None   \n",
      "\n",
      "      start_time  subcount  test_run  valid  \n",
      "id                                           \n",
      "1   1.455642e+09         0       NaN    NaN  \n",
      "2   1.455642e+09         0         0    NaN  \n",
      "3   1.455642e+09         0         0      1  \n",
      "4   1.455642e+09         0         0      1  \n",
      "5   1.455642e+09         0         0      1  \n",
      "6   1.455642e+09         0         0      1  \n",
      "7   1.455642e+09         0         0      1  \n",
      "8   1.455642e+09         0         0      1  \n",
      "9   1.455642e+09         0         0    NaN  \n",
      "10  1.455642e+09         0         0    NaN  \n"
     ]
    }
   ],
   "source": [
    "\n",
    "print extract.dump_sessions_dataframe(e.cursor)"
   ]
  },
  {
   "cell_type": "code",
   "execution_count": null,
   "metadata": {
    "collapsed": true
   },
   "outputs": [],
   "source": []
  },
  {
   "cell_type": "code",
   "execution_count": null,
   "metadata": {
    "collapsed": true
   },
   "outputs": [],
   "source": []
  }
 ],
 "metadata": {
  "kernelspec": {
   "display_name": "Python 2",
   "language": "python",
   "name": "python2"
  },
  "language_info": {
   "codemirror_mode": {
    "name": "ipython",
    "version": 2
   },
   "file_extension": ".py",
   "mimetype": "text/x-python",
   "name": "python",
   "nbconvert_exporter": "python",
   "pygments_lexer": "ipython2",
   "version": "2.7.11"
  }
 },
 "nbformat": 4,
 "nbformat_minor": 0
}
